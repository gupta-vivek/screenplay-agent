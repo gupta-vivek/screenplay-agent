{
 "cells": [
  {
   "cell_type": "code",
   "id": "initial_id",
   "metadata": {
    "collapsed": true,
    "ExecuteTime": {
     "end_time": "2025-07-06T08:30:51.710974Z",
     "start_time": "2025-07-06T08:30:51.705599Z"
    }
   },
   "source": [
    "from langchain_community.vectorstores import LanceDB\n",
    "import lancedb\n",
    "# from langchain_community.embeddings import SentenceTransformerEmbeddings\n",
    "from langchain_huggingface import HuggingFaceEmbeddings"
   ],
   "outputs": [],
   "execution_count": 2
  },
  {
   "metadata": {
    "ExecuteTime": {
     "end_time": "2025-07-06T09:22:09.588840Z",
     "start_time": "2025-07-06T09:22:06.914795Z"
    }
   },
   "cell_type": "code",
   "source": [
    "# Load your sentence transformer model\n",
    "model_name = \"sentence-transformers/all-mpnet-base-v2\"  # Replace with your specific model\n",
    "embedding_model = HuggingFaceEmbeddings(model_name=model_name)"
   ],
   "id": "1ee3ef6ec4c48c53",
   "outputs": [],
   "execution_count": 24
  },
  {
   "metadata": {
    "ExecuteTime": {
     "end_time": "2025-07-06T09:22:11.036779Z",
     "start_time": "2025-07-06T09:22:10.541144Z"
    }
   },
   "cell_type": "code",
   "source": [
    "db = lancedb.connect(\n",
    "  uri=\"db://screenplay-agent-msgtqr\",\n",
    "  api_key=\"sk_WZI5Y7IPRBEPBIM7JTOQMWAQDGUM22643EDAWLBZSOJ2Z3SBRMWA====\",\n",
    "  region=\"us-east-1\"\n",
    ")\n",
    "TABLE_NAME = \"documents\"\n",
    "table = db.open_table(TABLE_NAME)"
   ],
   "id": "2a97851fe8635f5f",
   "outputs": [],
   "execution_count": 25
  },
  {
   "metadata": {
    "ExecuteTime": {
     "end_time": "2025-07-06T09:15:37.676301Z",
     "start_time": "2025-07-06T09:15:37.667149Z"
    }
   },
   "cell_type": "code",
   "source": "LanceDB",
   "id": "efa68fbb5e077a96",
   "outputs": [
    {
     "data": {
      "text/plain": [
       "RemoteTable(screenplay-agent-msgtqr.documents)"
      ]
     },
     "execution_count": 17,
     "metadata": {},
     "output_type": "execute_result"
    }
   ],
   "execution_count": 17
  },
  {
   "metadata": {
    "ExecuteTime": {
     "end_time": "2025-07-06T09:22:13.211218Z",
     "start_time": "2025-07-06T09:22:12.736133Z"
    }
   },
   "cell_type": "code",
   "source": [
    "vector_store = LanceDB(region=\"us-east-1\", table_name=TABLE_NAME, uri=\"db://screenplay-agent-msgtqr\", api_key=\"sk_WZI5Y7IPRBEPBIM7JTOQMWAQDGUM22643EDAWLBZSOJ2Z3SBRMWA====\", embedding=embedding_model)\n",
    "# Create retriever\n",
    "retriever = vector_store.as_retriever()"
   ],
   "id": "71c9e62f5f246cf1",
   "outputs": [],
   "execution_count": 26
  },
  {
   "metadata": {
    "ExecuteTime": {
     "end_time": "2025-07-06T09:22:14.413976Z",
     "start_time": "2025-07-06T09:22:14.408512Z"
    }
   },
   "cell_type": "code",
   "source": [
    "from langchain.tools.retriever import create_retriever_tool\n",
    "\n",
    "retriever_tool = create_retriever_tool(\n",
    "    retriever,\n",
    "    \"retrieve_movie_scripts\",\n",
    "    \"Search and return information about Movie Scripts.\",\n",
    ")"
   ],
   "id": "b869281d67cd199e",
   "outputs": [],
   "execution_count": 27
  },
  {
   "metadata": {
    "ExecuteTime": {
     "end_time": "2025-07-06T09:22:39.628480Z",
     "start_time": "2025-07-06T09:22:38.829784Z"
    }
   },
   "cell_type": "code",
   "source": "retriever_tool.invoke({\"query\": \"The dark knight returns\"})",
   "id": "bbbe4c866d1069e8",
   "outputs": [
    {
     "data": {
      "text/plain": [
       "\"INT. FORENTE TENNIS COURT - NIGHT\\nABEL walks into the darkened tennis court and looks around.\\nWe aren't sure what he is there for. On the other side of the\\ncourt a light is on in a attached lounge. PETER comes into\\nthe light.\\nPETER FORENTE\\nWell here he is. The caped\\ncrusader.\\nABEL\\nYes.\\nPETER FORENTE\\nCome over. Are you alright?\\nABEL\\nI am.\\nPETER FORENTE\\nDid they catch any of them? Sit.\\n\\n\\n\\nA GOOD PERSON\\nWritten by\\nZach Braff\\nFINAL MOVIE SCRIPT\\n1 1\\n\\n\\nEXT. AIRPLANE - NIGHT\\nIt knocks the radio tower off a building and heads past the\\nJohn Hancock Building.\\n\\n\\nINTO AN ASTOUNDING FLASHBACK SEQUENCE:\\n\""
      ]
     },
     "execution_count": 29,
     "metadata": {},
     "output_type": "execute_result"
    }
   ],
   "execution_count": 29
  }
 ],
 "metadata": {
  "kernelspec": {
   "display_name": "Python 3",
   "language": "python",
   "name": "python3"
  },
  "language_info": {
   "codemirror_mode": {
    "name": "ipython",
    "version": 2
   },
   "file_extension": ".py",
   "mimetype": "text/x-python",
   "name": "python",
   "nbconvert_exporter": "python",
   "pygments_lexer": "ipython2",
   "version": "2.7.6"
  }
 },
 "nbformat": 4,
 "nbformat_minor": 5
}
