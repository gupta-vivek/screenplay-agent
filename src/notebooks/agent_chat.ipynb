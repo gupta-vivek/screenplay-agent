{
 "cells": [
  {
   "metadata": {
    "ExecuteTime": {
     "end_time": "2025-07-25T09:44:43.573182Z",
     "start_time": "2025-07-25T09:44:42.563618Z"
    }
   },
   "cell_type": "code",
   "source": [
    "from langgraph.pregel.remote import RemoteGraph\n",
    "from langgraph_sdk import get_sync_client"
   ],
   "id": "3bfb2ee5f37ccb5",
   "outputs": [],
   "execution_count": 1
  },
  {
   "metadata": {
    "ExecuteTime": {
     "end_time": "2025-07-25T09:44:52.300555Z",
     "start_time": "2025-07-25T09:44:51.971561Z"
    }
   },
   "cell_type": "code",
   "source": [
    "url = \"https://screenplay-agent.onrender.com/\"\n",
    "graph_name = \"agent\"\n",
    "sync_client = get_sync_client(url=url)\n",
    "remote_graph = RemoteGraph(graph_name, url=url)\n",
    "\n",
    "# create a thread (or use an existing thread instead)\n",
    "thread = sync_client.threads.create()"
   ],
   "id": "7ae96a72afa0e454",
   "outputs": [],
   "execution_count": 2
  },
  {
   "metadata": {
    "ExecuteTime": {
     "end_time": "2025-07-25T09:45:01.235801Z",
     "start_time": "2025-07-25T09:45:01.228380Z"
    }
   },
   "cell_type": "code",
   "source": "thread",
   "id": "6e9f913d2174ab7",
   "outputs": [
    {
     "data": {
      "text/plain": [
       "{'thread_id': '672d3e8e-0425-49b6-8522-8a39896521c6',\n",
       " 'created_at': '2025-07-25T09:44:52.657849+00:00',\n",
       " 'updated_at': '2025-07-25T09:44:52.657849+00:00',\n",
       " 'metadata': {},\n",
       " 'status': 'idle',\n",
       " 'config': {},\n",
       " 'values': None,\n",
       " 'interrupts': {},\n",
       " 'error': None}"
      ]
     },
     "execution_count": 3,
     "metadata": {},
     "output_type": "execute_result"
    }
   ],
   "execution_count": 3
  },
  {
   "metadata": {
    "ExecuteTime": {
     "end_time": "2025-07-25T09:46:11.168978Z",
     "start_time": "2025-07-25T09:45:50.330991Z"
    }
   },
   "cell_type": "code",
   "source": [
    "# invoke the graph with the thread config\n",
    "config = {\"configurable\": {\"thread_id\": thread[\"thread_id\"]}}\n",
    "result = remote_graph.invoke({\n",
    "    \"messages\": [{\"role\": \"user\", \"content\": \"Batman Gordon Scene in the dark knight rises\"}]\n",
    "}, config=config)"
   ],
   "id": "b6abf52fc866eee3",
   "outputs": [],
   "execution_count": 4
  },
  {
   "metadata": {
    "ExecuteTime": {
     "end_time": "2025-07-25T09:54:01.866399Z",
     "start_time": "2025-07-25T09:54:01.855061Z"
    }
   },
   "cell_type": "code",
   "source": [
    "\n",
    "\n",
    "for message in result[\"messages\"]:\n",
    "    print(f\"\\n{message['type']}: {message['content']}\\n\")\n"
   ],
   "id": "c2e0218e1f360702",
   "outputs": [
    {
     "name": "stdout",
     "output_type": "stream",
     "text": [
      "\n",
      "human: Batman Gordon Scene in the dark knight rises\n",
      "\n",
      "\n",
      "ai: I'll help you find information about the Batman Gordon scene in The Dark Knight Rises. Let me first check if this movie exists in the database and then retrieve the relevant documents.\n",
      "\n",
      "\n",
      "tool: The Dark Knight Rises\n",
      "\n",
      "\n",
      "ai: Great! The movie exists in the database. Now let me retrieve documents related to Batman and Gordon scenes.\n",
      "\n",
      "\n",
      "tool: [\"EXT. TUNNEL ENTRANCE - CONTINUOUS\\nGordon puts a hand on Batman's arm.\\nGORDON\\nI never cared who you were -\\nBATMAN\\nAnd you were right.\\nGORDON\\nBut shouldn't the people know the\\nhero who saved them?\\nBATMAN\\nA hero can be anyone. That was\\nalways the point.\\nBatman sits into the cockpit, then looks again at Gordon.\\nAnyone. A man doing something as\\nsimple and reassuring as putting a\\ncoat around a little boy's\\nshoulders to let him know that the\\nworld hadn't ended...\\nThe canopy closes - and as the Bat fires up Gordon remembers\\n-\\nINSERT CUT: Gordon, in his uniform, wraps the overcoat\\naround the Young Bruce's shoulders, his eyes reassuring,\\nloving.\\nGordon looks up to the cockpit -\\nGORDON\\nBruce Wayne?\\n- but is dusted by downdraft as the Bat RISES. Gordon LEAPS\\nout of the way as the core is dragged along and out of the\\ntunnel mouth.\\nThe Bat struggles with the weight of the smoking core... A\\nbuilding is in the way - Batman fights the controls but\\nthere's no power to get over it.\\n\", \"EXT. TUNNEL ENTRANCE - CONTINUOUS\\nGordon looks down at Talia. Batman is at his side.\\nTALIA\\nThere is no way to stop this bomb.\\nPrepare yourselves... (Looks up at\\nBatman.) My father's work is done.\\nTalia smiles as her eyes flutter closed. Gordon turns -\\nBatman is at the core, plunging his hands into the heat to\\nattach a hoist from the Bat.\\nGORDON\\nWhat're you doing?\\nBATMAN\\nTwo minutes. I can fly it out over\\nthe bay...\\nCatwoman is at his side as he works.\\nCATWOMAN\\nRig it out to fly over the water,\\nthen bail -\\n156.\\nBATMAN\\nNo autopilot.\\nShe takes this in. He stands to face her.\\nCATWOMAN\\nYou could've gone anywhere. Been\\nanything. But you came back here.\\nBATMAN\\nSo did you.\\nCATWOMAN\\nI guess we're both suckers.\\nShe puts her arms around his neck. Kisses him. Batman moves\\nto the Bat, Gordon alongside.\\nGORDON\\nSo this is the part where you\\nvanish, only this time you don't\\ncome back?\\nBatman opens the canopy.\\n\", \"EXT. ROOFTOP, MAJOR CRIMES UNIT - CONTINUOUS\\nGordon brings a stack of files against the air duct, settles\\nto read. Next to him is a rusty, broken searchlight.\\nYOUNG VOICE (O.S.)\\nSir?\\nA young Cop is standing there. This is Blake.\\nBLAKE\\nI didn't want to bother you up\\nhere, but they're looking for you.\\nGORDON\\nWhat's the problem, son?\\nBLAKE\\nCongressman Gilly's wife's been\\ncalling. He hasn't made it home\\nfrom the Wayne Foundation event.\\nGORDON\\nThat's a job for the police?\\nBLAKE\\nSir, I've been a cop for a year and\\nI've only logged half a dozen\\narrests. When you and Dent cleaned\\nthe streets you cleaned 'em good.\\nPretty soon we'll be chasing\\noverdue library books.\\nGordon smiles at this. Blake looks at his stack of files.\\nBLAKE\\nBut here you are. Like we're still\\nat war...\\nGORDON\\nOld habits.\\n17.\\nBLAKE\\nOr instinct.\\nGORDON\\nWhat's your name, son?\\nBLAKE\\nBlake, sir.\\nGORDON\\nYou have something you want to ask\\nme, Officer Blake?\\nBLAKE\\nIt's that night. This night, eight\\nyears ago. The night Dent died.\\nGORDON\\nWhat about it?\\nBLAKE\\nThe last confirmed sighting of the\\nBatman. He murders those people,\\ntakes out two SWAT teams, breaks\\nDent's neck...then just vanishes?\\nGORDON\\nI'm not hearing a question, son.\\nBlake shifts uneasily. Then looks at Gordon.\\nBLAKE\\nDon't you want to know who we was?\\nGordon turns to look at the broken searchlight. He brushes\\nhis fingers across its rusted shell.\\nGORDON\\nI know exactly who he was. (Turns\\nto Blake.) He was Batman.\\nGordon walks past Blake, heading for the stairs.\\nGORDON (O.S.)\\nLet's go see about the\\nCongressman's wife...\\n18.\\n\", \"INT. PRIVATE ROOM, GOTHAM GENERAL - CONTINUOUS\\nGordon lies in his bed, hooked up to machines. Wayne, in ski\\nmask, stands over him. Gordon's eyes flutter open. He tries\\nto speak with a weak, hoarse voice...\\nGORDON\\nWe were in this together. Then you\\nwere gone...\\nWAYNE\\nThe Batman wasn't needed anymore.\\nWe won.\\nGORDON\\nBuilt on a lie. Our lie. Now\\nthere's evil rising from where we\\ntried to bury it. Nobody will\\nlisten... The Batman has to come\\nback.\\n39.\\nWAYNE\\nWhat if he doesn't exist anymore?\\nGORDON\\nHe must. He must.\\n\", \"EXT. GOTHAM RIVER - CONTINUOUS\\nBatman hands Gordon a metal box.\\n140.\\nBATMAN\\nThis blocks the remote detonator\\nsignal to the bomb. Get it onto the\\ntruck by sunrise. They might hit\\nthe button when it starts.\\nGORDON\\nWhen what starts?\\nBATMAN\\nWar.\\n\"]\n",
      "\n",
      "\n",
      "ai: Based on the retrieved documents from The Dark Knight Rises script, here are the key Batman and Gordon scenes:\n",
      "\n",
      "## **Final Scene - Batman's Departure**\n",
      "The most significant Batman-Gordon scene occurs at the tunnel entrance where Batman is about to sacrifice himself to save Gotham. In this emotional moment:\n",
      "\n",
      "- **Gordon expresses his respect**: \"I never cared who you were\" - showing that Batman's identity didn't matter to him\n",
      "- **Batman's philosophy**: \"A hero can be anyone. That was always the point\"\n",
      "- **The revelation**: Batman hints at their shared past by referencing when Gordon comforted young Bruce Wayne after his parents' death - \"A man doing something as simple and reassuring as putting a coat around a little boy's shoulders\"\n",
      "- **Gordon realizes the truth**: As the Bat takes off, Gordon finally understands and calls out \"Bruce Wayne?\"\n",
      "\n",
      "## **Hospital Scene - Batman's Return**\n",
      "Earlier in the film, there's a poignant scene where Wayne (in disguise) visits the injured Gordon in the hospital:\n",
      "\n",
      "- Gordon pleads for Batman's return: \"The Batman has to come back\"\n",
      "- Wayne questions whether Batman still exists\n",
      "- Gordon insists: \"He must. He must.\"\n",
      "\n",
      "## **Other Key Interactions**\n",
      "- Gordon receives a device from Batman to block the bomb's remote detonator\n",
      "- There's a scene on the rooftop where Gordon reflects on Batman's disappearance with Officer Blake\n",
      "- Gordon acknowledges Batman's sacrifice when he prepares to fly the bomb away from the city\n",
      "\n",
      "These scenes showcase the deep trust and partnership between Batman and Gordon, culminating in Gordon finally learning Batman's true identity just as Bruce Wayne makes his ultimate sacrifice for Gotham.\n",
      "\n"
     ]
    }
   ],
   "execution_count": 19
  },
  {
   "metadata": {
    "ExecuteTime": {
     "end_time": "2025-07-25T09:55:02.183659Z",
     "start_time": "2025-07-25T09:54:57.043383Z"
    }
   },
   "cell_type": "code",
   "source": [
    "result = remote_graph.invoke({\n",
    "    \"messages\": [{\"role\": \"user\", \"content\": \"Which movie are we talking about?\"}]\n",
    "}, config=config)"
   ],
   "id": "349d1bace97f8cbc",
   "outputs": [],
   "execution_count": 20
  },
  {
   "metadata": {
    "ExecuteTime": {
     "end_time": "2025-07-25T09:55:07.628359Z",
     "start_time": "2025-07-25T09:55:07.611233Z"
    }
   },
   "cell_type": "code",
   "source": [
    "for message in result[\"messages\"]:\n",
    "    print(f\"\\n{message['type']}: {message['content']}\\n\")"
   ],
   "id": "dc0a98eb4251314c",
   "outputs": [
    {
     "name": "stdout",
     "output_type": "stream",
     "text": [
      "\n",
      "human: Batman Gordon Scene in the dark knight rises\n",
      "\n",
      "\n",
      "ai: I'll help you find information about the Batman Gordon scene in The Dark Knight Rises. Let me first check if this movie exists in the database and then retrieve the relevant documents.\n",
      "\n",
      "\n",
      "tool: The Dark Knight Rises\n",
      "\n",
      "\n",
      "ai: Great! The movie exists in the database. Now let me retrieve documents related to Batman and Gordon scenes.\n",
      "\n",
      "\n",
      "tool: [\"EXT. TUNNEL ENTRANCE - CONTINUOUS\\nGordon puts a hand on Batman's arm.\\nGORDON\\nI never cared who you were -\\nBATMAN\\nAnd you were right.\\nGORDON\\nBut shouldn't the people know the\\nhero who saved them?\\nBATMAN\\nA hero can be anyone. That was\\nalways the point.\\nBatman sits into the cockpit, then looks again at Gordon.\\nAnyone. A man doing something as\\nsimple and reassuring as putting a\\ncoat around a little boy's\\nshoulders to let him know that the\\nworld hadn't ended...\\nThe canopy closes - and as the Bat fires up Gordon remembers\\n-\\nINSERT CUT: Gordon, in his uniform, wraps the overcoat\\naround the Young Bruce's shoulders, his eyes reassuring,\\nloving.\\nGordon looks up to the cockpit -\\nGORDON\\nBruce Wayne?\\n- but is dusted by downdraft as the Bat RISES. Gordon LEAPS\\nout of the way as the core is dragged along and out of the\\ntunnel mouth.\\nThe Bat struggles with the weight of the smoking core... A\\nbuilding is in the way - Batman fights the controls but\\nthere's no power to get over it.\\n\", \"EXT. TUNNEL ENTRANCE - CONTINUOUS\\nGordon looks down at Talia. Batman is at his side.\\nTALIA\\nThere is no way to stop this bomb.\\nPrepare yourselves... (Looks up at\\nBatman.) My father's work is done.\\nTalia smiles as her eyes flutter closed. Gordon turns -\\nBatman is at the core, plunging his hands into the heat to\\nattach a hoist from the Bat.\\nGORDON\\nWhat're you doing?\\nBATMAN\\nTwo minutes. I can fly it out over\\nthe bay...\\nCatwoman is at his side as he works.\\nCATWOMAN\\nRig it out to fly over the water,\\nthen bail -\\n156.\\nBATMAN\\nNo autopilot.\\nShe takes this in. He stands to face her.\\nCATWOMAN\\nYou could've gone anywhere. Been\\nanything. But you came back here.\\nBATMAN\\nSo did you.\\nCATWOMAN\\nI guess we're both suckers.\\nShe puts her arms around his neck. Kisses him. Batman moves\\nto the Bat, Gordon alongside.\\nGORDON\\nSo this is the part where you\\nvanish, only this time you don't\\ncome back?\\nBatman opens the canopy.\\n\", \"EXT. ROOFTOP, MAJOR CRIMES UNIT - CONTINUOUS\\nGordon brings a stack of files against the air duct, settles\\nto read. Next to him is a rusty, broken searchlight.\\nYOUNG VOICE (O.S.)\\nSir?\\nA young Cop is standing there. This is Blake.\\nBLAKE\\nI didn't want to bother you up\\nhere, but they're looking for you.\\nGORDON\\nWhat's the problem, son?\\nBLAKE\\nCongressman Gilly's wife's been\\ncalling. He hasn't made it home\\nfrom the Wayne Foundation event.\\nGORDON\\nThat's a job for the police?\\nBLAKE\\nSir, I've been a cop for a year and\\nI've only logged half a dozen\\narrests. When you and Dent cleaned\\nthe streets you cleaned 'em good.\\nPretty soon we'll be chasing\\noverdue library books.\\nGordon smiles at this. Blake looks at his stack of files.\\nBLAKE\\nBut here you are. Like we're still\\nat war...\\nGORDON\\nOld habits.\\n17.\\nBLAKE\\nOr instinct.\\nGORDON\\nWhat's your name, son?\\nBLAKE\\nBlake, sir.\\nGORDON\\nYou have something you want to ask\\nme, Officer Blake?\\nBLAKE\\nIt's that night. This night, eight\\nyears ago. The night Dent died.\\nGORDON\\nWhat about it?\\nBLAKE\\nThe last confirmed sighting of the\\nBatman. He murders those people,\\ntakes out two SWAT teams, breaks\\nDent's neck...then just vanishes?\\nGORDON\\nI'm not hearing a question, son.\\nBlake shifts uneasily. Then looks at Gordon.\\nBLAKE\\nDon't you want to know who we was?\\nGordon turns to look at the broken searchlight. He brushes\\nhis fingers across its rusted shell.\\nGORDON\\nI know exactly who he was. (Turns\\nto Blake.) He was Batman.\\nGordon walks past Blake, heading for the stairs.\\nGORDON (O.S.)\\nLet's go see about the\\nCongressman's wife...\\n18.\\n\", \"INT. PRIVATE ROOM, GOTHAM GENERAL - CONTINUOUS\\nGordon lies in his bed, hooked up to machines. Wayne, in ski\\nmask, stands over him. Gordon's eyes flutter open. He tries\\nto speak with a weak, hoarse voice...\\nGORDON\\nWe were in this together. Then you\\nwere gone...\\nWAYNE\\nThe Batman wasn't needed anymore.\\nWe won.\\nGORDON\\nBuilt on a lie. Our lie. Now\\nthere's evil rising from where we\\ntried to bury it. Nobody will\\nlisten... The Batman has to come\\nback.\\n39.\\nWAYNE\\nWhat if he doesn't exist anymore?\\nGORDON\\nHe must. He must.\\n\", \"EXT. GOTHAM RIVER - CONTINUOUS\\nBatman hands Gordon a metal box.\\n140.\\nBATMAN\\nThis blocks the remote detonator\\nsignal to the bomb. Get it onto the\\ntruck by sunrise. They might hit\\nthe button when it starts.\\nGORDON\\nWhen what starts?\\nBATMAN\\nWar.\\n\"]\n",
      "\n",
      "\n",
      "ai: Based on the retrieved documents from The Dark Knight Rises script, here are the key Batman and Gordon scenes:\n",
      "\n",
      "## **Final Scene - Batman's Departure**\n",
      "The most significant Batman-Gordon scene occurs at the tunnel entrance where Batman is about to sacrifice himself to save Gotham. In this emotional moment:\n",
      "\n",
      "- **Gordon expresses his respect**: \"I never cared who you were\" - showing that Batman's identity didn't matter to him\n",
      "- **Batman's philosophy**: \"A hero can be anyone. That was always the point\"\n",
      "- **The revelation**: Batman hints at their shared past by referencing when Gordon comforted young Bruce Wayne after his parents' death - \"A man doing something as simple and reassuring as putting a coat around a little boy's shoulders\"\n",
      "- **Gordon realizes the truth**: As the Bat takes off, Gordon finally understands and calls out \"Bruce Wayne?\"\n",
      "\n",
      "## **Hospital Scene - Batman's Return**\n",
      "Earlier in the film, there's a poignant scene where Wayne (in disguise) visits the injured Gordon in the hospital:\n",
      "\n",
      "- Gordon pleads for Batman's return: \"The Batman has to come back\"\n",
      "- Wayne questions whether Batman still exists\n",
      "- Gordon insists: \"He must. He must.\"\n",
      "\n",
      "## **Other Key Interactions**\n",
      "- Gordon receives a device from Batman to block the bomb's remote detonator\n",
      "- There's a scene on the rooftop where Gordon reflects on Batman's disappearance with Officer Blake\n",
      "- Gordon acknowledges Batman's sacrifice when he prepares to fly the bomb away from the city\n",
      "\n",
      "These scenes showcase the deep trust and partnership between Batman and Gordon, culminating in Gordon finally learning Batman's true identity just as Bruce Wayne makes his ultimate sacrifice for Gotham.\n",
      "\n",
      "\n",
      "human: Which movie are we talking about?\n",
      "\n",
      "\n",
      "ai: We are talking about **The Dark Knight Rises** - that's the movie I checked in the database and retrieved the script documents from when you asked about the \"Batman Gordon Scene in the dark knight rises.\"\n",
      "\n",
      "This is the third and final film in Christopher Nolan's Dark Knight trilogy, released in 2012, starring Christian Bale as Batman/Bruce Wayne and Gary Oldman as Commissioner Gordon.\n",
      "\n"
     ]
    }
   ],
   "execution_count": 21
  }
 ],
 "metadata": {
  "kernelspec": {
   "display_name": "Python 3",
   "language": "python",
   "name": "python3"
  },
  "language_info": {
   "codemirror_mode": {
    "name": "ipython",
    "version": 2
   },
   "file_extension": ".py",
   "mimetype": "text/x-python",
   "name": "python",
   "nbconvert_exporter": "python",
   "pygments_lexer": "ipython2",
   "version": "2.7.6"
  }
 },
 "nbformat": 4,
 "nbformat_minor": 5
}
