{
 "cells": [
  {
   "metadata": {},
   "cell_type": "markdown",
   "source": "#### Scrape and store scripts from iMSDB",
   "id": "494c7e197c21863a"
  },
  {
   "metadata": {
    "ExecuteTime": {
     "end_time": "2025-07-03T11:25:52.227658Z",
     "start_time": "2025-07-03T11:25:51.954147Z"
    }
   },
   "cell_type": "code",
   "source": [
    "import os\n",
    "import bs4\n",
    "import requests\n",
    "import time\n",
    "import json"
   ],
   "id": "6c13c30e1338613b",
   "outputs": [],
   "execution_count": 1
  },
  {
   "metadata": {
    "ExecuteTime": {
     "end_time": "2025-07-03T11:25:52.658828Z",
     "start_time": "2025-07-03T11:25:52.652910Z"
    }
   },
   "cell_type": "code",
   "source": [
    "def get_all_movies():\n",
    "    \"\"\"\n",
    "    Get a list of all movies from imsdb\n",
    "    :return:\n",
    "    \"\"\"\n",
    "\n",
    "    all_scripts_url = \"https://imsdb.com/all-scripts.html\"\n",
    "    page = requests.get(all_scripts_url)\n",
    "    soup = bs4.BeautifulSoup(page.content, 'html.parser')\n",
    "    movie_p = soup.find_all('p')\n",
    "    movie_titles = [p.find('a').text for p in movie_p]\n",
    "\n",
    "    return movie_titles"
   ],
   "id": "fc355d0a3cdb3bde",
   "outputs": [],
   "execution_count": 2
  },
  {
   "metadata": {
    "ExecuteTime": {
     "end_time": "2025-07-03T11:25:52.678234Z",
     "start_time": "2025-07-03T11:25:52.669068Z"
    }
   },
   "cell_type": "code",
   "source": [
    "def convert_title_to_url(title: str):\n",
    "    \"\"\"\n",
    "    Convert movie title to imsdb url\n",
    "    :param title: movie title\n",
    "    :return:\n",
    "    \"\"\"\n",
    "    title = title.replace(' ', '-')\n",
    "    title = title.replace(':', '')\n",
    "    return f\"https://imsdb.com/scripts/{title}.html\"\n",
    "\n",
    "convert_title_to_url(\"42\")"
   ],
   "id": "a2a0541f94715287",
   "outputs": [
    {
     "data": {
      "text/plain": [
       "'https://imsdb.com/scripts/42.html'"
      ]
     },
     "execution_count": 3,
     "metadata": {},
     "output_type": "execute_result"
    }
   ],
   "execution_count": 3
  },
  {
   "metadata": {
    "ExecuteTime": {
     "end_time": "2025-07-03T13:27:56.574513Z",
     "start_time": "2025-07-03T13:27:56.150443Z"
    }
   },
   "cell_type": "code",
   "source": [
    "def get_script(script_url: str):\n",
    "    \"\"\"\n",
    "    Fetches and returns script from the given URL\n",
    "\n",
    "    :param script_url: URL of script to fetch\n",
    "    :return: The extracted script text if found, otherwise None.\n",
    "    :rtype: Optional[str]\n",
    "    \"\"\"\n",
    "    response = requests.get(script_url)\n",
    "    if response.status_code != 200:\n",
    "        print(f\"No Script Found for {script_url}\")\n",
    "        return None\n",
    "    page = requests.get(script_url)\n",
    "    soup = bs4.BeautifulSoup(page.content, 'html.parser')\n",
    "    td_tag = soup.find('td', class_='scrtext')\n",
    "    return td_tag.text\n",
    "\n",
    "get_script(\"https://imsdb.com/scripts/This-is-40.html\")"
   ],
   "id": "30a3ed43f2c6411b",
   "outputs": [],
   "execution_count": 8
  },
  {
   "metadata": {
    "ExecuteTime": {
     "end_time": "2025-07-03T11:25:52.716795Z",
     "start_time": "2025-07-03T11:25:52.711385Z"
    }
   },
   "cell_type": "code",
   "source": [
    "def fix_title(title):\n",
    "    \"\"\"\n",
    "    Fixes the formatting of a title string\n",
    "\n",
    "    :param title: movie title\n",
    "    :rtype: str\n",
    "    \"\"\"\n",
    "    if title.split(',')[-1] == ' The':\n",
    "        new_title = title.split(',')[::-1]\n",
    "        title = ' '.join(new_title).strip()\n",
    "    return title"
   ],
   "id": "3d9886f26d8f0a05",
   "outputs": [],
   "execution_count": 5
  },
  {
   "metadata": {
    "ExecuteTime": {
     "end_time": "2025-07-03T11:59:58.746193Z",
     "start_time": "2025-07-03T11:25:52.728792Z"
    }
   },
   "cell_type": "code",
   "source": [
    "script_directory = \"../../scripts\"\n",
    "movie_titles = get_all_movies()\n",
    "movie_dict = {}\n",
    "for ind, title in enumerate(movie_titles):\n",
    "    try:\n",
    "        if ind % 100 == 0:\n",
    "            print(ind)\n",
    "        title_url = convert_title_to_url(title)\n",
    "        script = get_script(title_url)\n",
    "        fixed_title = fix_title(title)\n",
    "        if script is None:\n",
    "            movie_dict[fixed_title] = None\n",
    "        elif len(script.split()) < 100:\n",
    "            movie_dict[fixed_title] = None\n",
    "        else:\n",
    "            file_name = title.replace('.', '_')\n",
    "            filename = title.replace(':', '-') + \".txt\"\n",
    "            movie_dict[fixed_title] = filename\n",
    "            with open(f\"{script_directory}/{filename}\", \"w\", encoding=\"utf-8\") as f:\n",
    "                f.write(script)\n",
    "    except Exception as e:\n",
    "        print(f\"{title}: {e}\")\n",
    "    time.sleep(1)"
   ],
   "id": "753fc1c63df8d33e",
   "outputs": [
    {
     "name": "stdout",
     "output_type": "stream",
     "text": [
      "0\n",
      "No Script Found for https://imsdb.com/scripts/A.I..html\n",
      "100\n",
      "No Script Found for https://imsdb.com/scripts/Batman-and-Robin.html\n",
      "No Script Found for https://imsdb.com/scripts/Batman-Begins.html\n",
      "No Script Found for https://imsdb.com/scripts/Batman-Forever.html\n",
      "No Script Found for https://imsdb.com/scripts/Batman-Returns.html\n",
      "200\n",
      "No Script Found for https://imsdb.com/scripts/Casablanca.html\n",
      "300\n",
      "No Script Found for https://imsdb.com/scripts/Contact.html\n",
      "No Script Found for https://imsdb.com/scripts/Dark-Knight,-The.html\n",
      "No Script Found for https://imsdb.com/scripts/Donnie-Darko.html\n",
      "400\n",
      "No Script Found for https://imsdb.com/scripts/Executive-Decision.html\n",
      "No Script Found for https://imsdb.com/scripts/Eyes-Wide-Shut.html\n",
      "No Script Found for https://imsdb.com/scripts/Full-Metal-Jacket.html\n",
      "No Script Found for https://imsdb.com/scripts/Fury.html\n",
      "500\n",
      "No Script Found for https://imsdb.com/scripts/Ginger-Snaps.html\n",
      "No Script Found for https://imsdb.com/scripts/Goodfellas.html\n",
      "No Script Found for https://imsdb.com/scripts/Harry-Potter-and-the-Chamber-of-Secrets.html\n",
      "No Script Found for https://imsdb.com/scripts/Harry-Potter-and-the-Deathly-Hallows-Part-1.html\n",
      "No Script Found for https://imsdb.com/scripts/Harry-Potter-and-the-Goblet-of-Fire.html\n",
      "No Script Found for https://imsdb.com/scripts/Harry-Potter-and-the-Half-Blood-Prince.html\n",
      "No Script Found for https://imsdb.com/scripts/Harry-Potter-and-the-Prisoner-of-Azkaban.html\n",
      "No Script Found for https://imsdb.com/scripts/Harry-Potter-and-the-Sorcerer's-Stone.html\n",
      "600\n",
      "No Script Found for https://imsdb.com/scripts/Innerspace.html\n",
      "700\n",
      "No Script Found for https://imsdb.com/scripts/Lethal-Weapon.html\n",
      "No Script Found for https://imsdb.com/scripts/Lethal-Weapon-4.html\n",
      "No Script Found for https://imsdb.com/scripts/Matchstick-Men.html\n",
      "800\n",
      "No Script Found for https://imsdb.com/scripts/O-Brother-Where-Art-Thou?.html\n",
      "No Script Found for https://imsdb.com/scripts/Outbreak.html\n",
      "900\n",
      "1000\n",
      "1100\n",
      "1200\n",
      "No Script Found for https://imsdb.com/scripts/Troy.html\n",
      "No Script Found for https://imsdb.com/scripts/Unforgiven.html\n",
      "No Script Found for https://imsdb.com/scripts/Valentine's-Day.html\n",
      "No Script Found for https://imsdb.com/scripts/What-About-Bob?.html\n",
      "No Script Found for https://imsdb.com/scripts/Who-Framed-Roger-Rabbit?.html\n"
     ]
    }
   ],
   "execution_count": 6
  },
  {
   "metadata": {
    "ExecuteTime": {
     "end_time": "2025-07-03T11:59:58.786025Z",
     "start_time": "2025-07-03T11:59:58.777621Z"
    }
   },
   "cell_type": "code",
   "source": [
    "with open('../../data/movie_list.json', 'w') as f:\n",
    "    json.dump(movie_dict, f)"
   ],
   "id": "1a49b94c7ff4d60b",
   "outputs": [],
   "execution_count": 7
  }
 ],
 "metadata": {
  "kernelspec": {
   "display_name": "Python 3",
   "language": "python",
   "name": "python3"
  },
  "language_info": {
   "codemirror_mode": {
    "name": "ipython",
    "version": 2
   },
   "file_extension": ".py",
   "mimetype": "text/x-python",
   "name": "python",
   "nbconvert_exporter": "python",
   "pygments_lexer": "ipython2",
   "version": "2.7.6"
  }
 },
 "nbformat": 4,
 "nbformat_minor": 5
}
