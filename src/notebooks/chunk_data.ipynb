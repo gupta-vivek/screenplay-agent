{
 "cells": [
  {
   "metadata": {},
   "cell_type": "markdown",
   "source": [
    "### Chunk the data\n",
    "\n",
    "Script is chunked by INTERIOR/EXTERIOR scenes. Some scripts doesn't provide this information. Those scripts are chunked by character length.\n",
    "\n",
    "Example from \"A Quiet Place\":\n",
    "```json\n",
    "{\n",
    "    \"title\": \"A Quiet Place\",\n",
    "    \"id\": \"A Quiet Place_52\", \n",
    "    \"text\": \"EXT. RIVER - LATE AFTERNOON 43\\nAn immediate and jarring sound of water rushes in as we are:\\nTIGHT ON MOVING WATER over rocks.\\n[NOTE: THE SOUND WILL CONTINUE THROUGHOUT THE ENTIRETY OF\\nTHIS SCENE]\\n...\",\n",
    "    \"text_vector\": [ -0.022776233032345772,.......]\n",
    "}\n",
    "```\n"
   ],
   "id": "e02bfdcfed5a1985"
  },
  {
   "metadata": {
    "ExecuteTime": {
     "end_time": "2025-07-03T14:43:25.380885Z",
     "start_time": "2025-07-03T14:43:25.376684Z"
    }
   },
   "cell_type": "code",
   "source": [
    "import os\n",
    "import re\n",
    "import chardet\n",
    "from langchain_text_splitters import RecursiveCharacterTextSplitter\n",
    "import json"
   ],
   "id": "39cd61aba0825234",
   "outputs": [],
   "execution_count": 5
  },
  {
   "metadata": {
    "ExecuteTime": {
     "end_time": "2025-07-03T14:43:25.402972Z",
     "start_time": "2025-07-03T14:43:25.399632Z"
    }
   },
   "cell_type": "code",
   "source": [
    "script_directory = \"../../scripts\"\n",
    "chunk_dir = \"../../data/chunks/\"\n",
    "movie_list_path = \"../../data/movie_list.json\""
   ],
   "id": "21ce69fe729ee43e",
   "outputs": [],
   "execution_count": 6
  },
  {
   "metadata": {
    "ExecuteTime": {
     "end_time": "2025-07-06T17:26:53.258118Z",
     "start_time": "2025-07-06T17:26:53.250015Z"
    }
   },
   "cell_type": "code",
   "source": [
    "def detect_encoding(script_path: str): # This function was added because some files were giving encoding issues.\n",
    "    \"\"\"\n",
    "    Detects the encoding of a file by analyzing its binary data\n",
    "\n",
    "    :param script_path: The file path of the script whose encoding is to be detected.\n",
    "    :type script_path: str\n",
    "    :return: The name of the detected encoding, e.g., 'utf-8', 'ISO-8859-1', etc.\n",
    "    :rtype: str\n",
    "    \"\"\"\n",
    "    with open(script_path, 'rb') as f:  # Open in binary mode for encoding detection\n",
    "        raw_data = f.read()\n",
    "        result = chardet.detect(raw_data)\n",
    "        detected_encoding = result['encoding']\n",
    "        return detected_encoding\n",
    "\n",
    "\n",
    "def create_json(scenes, script_filename, title):\n",
    "    \"\"\"\n",
    "    Stores the chunked scenes in a JSON file.\n",
    "\n",
    "    :param scenes: Chunked scenes\n",
    "    :param script_filename: Name of the script file\n",
    "    :param title: Movie title\n",
    "    :return: None\n",
    "    \"\"\"\n",
    "    chunk_json = []\n",
    "    for i, scene in enumerate(scenes):\n",
    "        chunk_json.append({\n",
    "            \"title\": title,\n",
    "            \"id\": f\"{title}_{i+1}\",\n",
    "            \"text\": scene\n",
    "        })\n",
    "\n",
    "    chunk_filename = script_filename.replace('.txt', '.json')\n",
    "    chunk_path = os.path.join(chunk_dir, f\"{chunk_filename}\")\n",
    "    with open(chunk_path, 'w') as f:\n",
    "        f.write(json.dumps(chunk_json, indent=4))\n",
    "\n"
   ],
   "id": "d0883b82ca6873f6",
   "outputs": [],
   "execution_count": 1
  },
  {
   "metadata": {
    "ExecuteTime": {
     "end_time": "2025-07-06T17:34:23.099896Z",
     "start_time": "2025-07-06T17:34:22.745783Z"
    }
   },
   "cell_type": "code",
   "source": [
    "# Get list of all movies\n",
    "with open(movie_list_path, 'r') as f:\n",
    "    movie_list = json.load(f)\n",
    "\n",
    "# Iterate through each movie and get script\n",
    "for title in movie_list:\n",
    "    script_file = movie_list[title]\n",
    "    if script_file is None:  # If no script file is present\n",
    "        continue\n",
    "    script_path = os.path.join(script_directory, script_file)\n",
    "    # Detect encoding\n",
    "    try:\n",
    "        with open(script_path, 'r', encoding='utf-8') as f:\n",
    "            raw_text = f.read()\n",
    "    except:\n",
    "        encoding = detect_encoding(script_path)\n",
    "        with open(script_path, 'r', encoding=encoding) as f:\n",
    "            raw_text = f.read()\n",
    "\n",
    "    # Split scenes based on INT/EXT\n",
    "    text = re.sub(r'\\n\\s+', '\\n', raw_text)  # Cleans up extra white spaces immediately following a line break\n",
    "    text = re.sub(r'\\s{2,}', ' ', text)\n",
    "    scene_pattern = r'(?=(?:INT[\\s.]*|EXT[\\s.]*|INTERIOR|EXTERIOR)[^\\n]*)'\n",
    "    scenes = re.split(scene_pattern, text)\n",
    "\n",
    "    # If no INT/EXT data is present, do character splitting\n",
    "    if len(scenes) < 2:\n",
    "        text_splitter = RecursiveCharacterTextSplitter(chunk_size=1500, chunk_overlap=500)\n",
    "        scenes = text_splitter.split_text(text)\n",
    "\n",
    "    create_json(scenes, script_file, title)\n"
   ],
   "id": "3249f82a53922814",
   "outputs": [
    {
     "name": "stderr",
     "output_type": "stream",
     "text": [
      "\n",
      "KeyboardInterrupt\n",
      "\n"
     ]
    }
   ],
   "execution_count": 1
  }
 ],
 "metadata": {
  "kernelspec": {
   "display_name": "Python 3",
   "language": "python",
   "name": "python3"
  },
  "language_info": {
   "codemirror_mode": {
    "name": "ipython",
    "version": 2
   },
   "file_extension": ".py",
   "mimetype": "text/x-python",
   "name": "python",
   "nbconvert_exporter": "python",
   "pygments_lexer": "ipython2",
   "version": "2.7.6"
  }
 },
 "nbformat": 4,
 "nbformat_minor": 5
}
