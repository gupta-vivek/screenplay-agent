{
 "cells": [
  {
   "cell_type": "code",
   "id": "initial_id",
   "metadata": {
    "collapsed": true,
    "ExecuteTime": {
     "end_time": "2025-07-13T09:20:59.031026Z",
     "start_time": "2025-07-13T09:20:40.648339Z"
    }
   },
   "source": [
    "import os, getpass\n",
    "from dotenv import load_dotenv, find_dotenv\n",
    "from rapidfuzz import process\n",
    "from langchain_deepseek import ChatDeepSeek\n",
    "from langchain_core.prompts import ChatPromptTemplate\n",
    "import json\n",
    "from sentence_transformers import SentenceTransformer\n",
    "import lancedb"
   ],
   "outputs": [],
   "execution_count": 1
  },
  {
   "metadata": {},
   "cell_type": "markdown",
   "source": "### Initialize deepseek, lancedb and embedding model",
   "id": "5081355e5c13d821"
  },
  {
   "metadata": {
    "ExecuteTime": {
     "end_time": "2025-07-13T09:20:59.941319Z",
     "start_time": "2025-07-13T09:20:59.045777Z"
    }
   },
   "cell_type": "code",
   "source": [
    "# LLM\n",
    "_ = load_dotenv(find_dotenv())\n",
    "def _set_env(var: str):\n",
    "    if not os.environ.get(var):\n",
    "        os.environ[var] = getpass.getpass(f\"{var}: \")\n",
    "\n",
    "_set_env(\"DEEPSEEK_API_KEY\")\n",
    "llm = ChatDeepSeek(model=\"deepseek-chat\")"
   ],
   "id": "6351a22e4008829c",
   "outputs": [],
   "execution_count": 2
  },
  {
   "metadata": {
    "ExecuteTime": {
     "end_time": "2025-07-13T09:21:01.301402Z",
     "start_time": "2025-07-13T09:21:00.697585Z"
    }
   },
   "cell_type": "code",
   "source": [
    "# Lance DB\n",
    "uri=\"db://screenplay-agent-msgtqr\"\n",
    "api_key=\"sk_WZI5Y7IPRBEPBIM7JTOQMWAQDGUM22643EDAWLBZSOJ2Z3SBRMWA====\"\n",
    "region=\"us-east-1\"\n",
    "table_name = \"documents\"\n",
    "\n",
    "db = lancedb.connect(\n",
    "  uri=uri,\n",
    "  api_key=api_key,\n",
    "  region=region\n",
    ")\n",
    "\n",
    "table = db.open_table(table_name)"
   ],
   "id": "b957f9f4739803b",
   "outputs": [],
   "execution_count": 3
  },
  {
   "metadata": {
    "ExecuteTime": {
     "end_time": "2025-07-13T09:21:06.987561Z",
     "start_time": "2025-07-13T09:21:01.486451Z"
    }
   },
   "cell_type": "code",
   "source": [
    "# Embedding Model\n",
    "model = SentenceTransformer('all-mpnet-base-v2')"
   ],
   "id": "d6b1fa770f3d8c12",
   "outputs": [],
   "execution_count": 4
  },
  {
   "metadata": {
    "ExecuteTime": {
     "end_time": "2025-07-13T09:21:07.164970Z",
     "start_time": "2025-07-13T09:21:07.145437Z"
    }
   },
   "cell_type": "code",
   "source": [
    "# Movie List\n",
    "with open('../../data/movie_list.json', 'r') as f:\n",
    "    movie_list = json.load(f)\n",
    "movie_titles = [key for key in movie_list.keys()]"
   ],
   "id": "4df308586a4fe713",
   "outputs": [],
   "execution_count": 5
  },
  {
   "metadata": {
    "ExecuteTime": {
     "end_time": "2025-07-13T09:21:07.186344Z",
     "start_time": "2025-07-13T09:21:07.179633Z"
    }
   },
   "cell_type": "code",
   "source": [
    "def fuzzy_match_title(user_input, titles, threshold=80):\n",
    "    match = process.extractOne(user_input, titles, score_cutoff=threshold)\n",
    "    return match[0] if match else None\n"
   ],
   "id": "46c50590fd7940f",
   "outputs": [],
   "execution_count": 6
  },
  {
   "metadata": {
    "ExecuteTime": {
     "end_time": "2025-07-13T09:21:07.465536Z",
     "start_time": "2025-07-13T09:21:07.450260Z"
    }
   },
   "cell_type": "code",
   "source": [
    "def check_movie_exists(movie_title):\n",
    "    \"\"\"\n",
    "    Pass the original movie title to the function to check if the movie exists in the database.\n",
    "\n",
    "    :param movie_title: The exact movie title to search for in the database.\n",
    "    :type movie_title: str\n",
    "    :return: The details of the movie if it exists, based on the fuzzy-matched title.\n",
    "    :rtype: dict\n",
    "    \"\"\"\n",
    "    fuzzy_movie = fuzzy_match_title(movie_title, movie_titles)\n",
    "    if fuzzy_movie and movie_list[fuzzy_movie]:\n",
    "        return f\"Script for {fuzzy_movie} is available\"\n",
    "    return False\n",
    "    # return f\"Script for {fuzzy_movie} is {movie_list[fuzzy_movie]}\"\n",
    "check_movie_exists(\"The Dark Knight\")"
   ],
   "id": "886894aaa5544da1",
   "outputs": [
    {
     "data": {
      "text/plain": [
       "False"
      ]
     },
     "execution_count": 7,
     "metadata": {},
     "output_type": "execute_result"
    }
   ],
   "execution_count": 7
  },
  {
   "metadata": {
    "ExecuteTime": {
     "end_time": "2025-07-13T09:21:07.650736Z",
     "start_time": "2025-07-13T09:21:07.645746Z"
    }
   },
   "cell_type": "code",
   "source": [
    "def retrieve_documents(title, text_query):\n",
    "    \"\"\"\n",
    "    Retrieves a list of document texts based on the given movie title and text query.\n",
    "\n",
    "    :param str title: The title of the movie\n",
    "    :param str text_query: The textual content or query to match with the database.\n",
    "    :return: A list of top three matched document texts.\n",
    "    :rtype: list[str]\n",
    "    \"\"\"\n",
    "    vector_query = model.encode(text_query)\n",
    "    return table.search(query_type=\"hybrid\").where(f\"title='{title}'\", prefilter=True).limit(3).vector(vector_query).text(text_query).to_pandas()['text'].to_list()\n",
    "\n",
    "# retrieve_documents(\"12 Monkeys\", \"Parking Lot Airport\")"
   ],
   "id": "bd39a368191ecda9",
   "outputs": [],
   "execution_count": 8
  },
  {
   "metadata": {
    "ExecuteTime": {
     "end_time": "2025-07-12T11:48:46.323873Z",
     "start_time": "2025-07-12T11:48:46.318169Z"
    }
   },
   "cell_type": "code",
   "source": [
    "# user_input = \"12 Monkeys airport parking lot scene\"\n",
    "# check_movie_exists(user_input)"
   ],
   "id": "171f51a210057e1f",
   "outputs": [],
   "execution_count": 10
  },
  {
   "metadata": {
    "ExecuteTime": {
     "end_time": "2025-07-13T09:21:07.938619Z",
     "start_time": "2025-07-13T09:21:07.783618Z"
    }
   },
   "cell_type": "code",
   "source": [
    "from langgraph.graph import MessagesState\n",
    "from langchain_core.messages import SystemMessage, HumanMessage\n",
    "\n",
    "# System message\n",
    "sys_msg = SystemMessage(content=\"You are an agent that can answer questions about movie scripts. When user asks something ask check if the movie exists first.\")\n",
    "tools = [check_movie_exists, retrieve_documents]\n",
    "llm_with_tools = llm.bind_tools(tools, parallel_tool_calls=False)\n",
    "# Node\n",
    "def assistant(state: MessagesState):\n",
    "   return {\"messages\": [llm_with_tools.invoke([sys_msg] + state[\"messages\"])]} # Storing only the last 6 messages to reduce context length"
   ],
   "id": "53b6ea2c2bc8d186",
   "outputs": [],
   "execution_count": 9
  },
  {
   "metadata": {
    "ExecuteTime": {
     "end_time": "2025-07-13T09:21:08.293359Z",
     "start_time": "2025-07-13T09:21:08.082755Z"
    }
   },
   "cell_type": "code",
   "source": [
    "from langgraph.graph import START, StateGraph\n",
    "from langgraph.prebuilt import tools_condition\n",
    "from langgraph.prebuilt import ToolNode\n",
    "from IPython.display import Image, display\n",
    "from langgraph.checkpoint.memory import MemorySaver\n",
    "\n",
    "# Graph\n",
    "builder = StateGraph(MessagesState)\n",
    "\n",
    "# Define nodes: these do the work\n",
    "builder.add_node(\"assistant\", assistant)\n",
    "builder.add_node(\"tools\", ToolNode(tools))\n",
    "\n",
    "# Define edges: these determine how the control flow moves\n",
    "builder.add_edge(START, \"assistant\")\n",
    "builder.add_conditional_edges(\n",
    "    \"assistant\",\n",
    "    # If the latest message (result) from assistant is a tool call -> tools_condition routes to tools\n",
    "    # If the latest message (result) from assistant is a not a tool call -> tools_condition routes to END\n",
    "    tools_condition,\n",
    ")\n",
    "builder.add_edge(\"tools\", \"assistant\")\n",
    "# react_graph_memory = builder.compile(checkpointer=memory)\n",
    "# react_graph = builder.compile()\n",
    "\n",
    "# Show\n",
    "# display(Image(react_graph.get_graph(xray=True).draw_mermaid_png()))\n",
    "# display(Image(react_graph_memory.get_graph(xray=True).draw_mermaid_png()))"
   ],
   "id": "bfdf8860002faf1c",
   "outputs": [
    {
     "data": {
      "text/plain": [
       "<langgraph.graph.state.StateGraph at 0x20342b809b0>"
      ]
     },
     "execution_count": 10,
     "metadata": {},
     "output_type": "execute_result"
    }
   ],
   "execution_count": 10
  },
  {
   "metadata": {},
   "cell_type": "markdown",
   "source": "### Without Memory",
   "id": "584a0b0887df0f20"
  },
  {
   "metadata": {
    "ExecuteTime": {
     "end_time": "2025-07-13T09:22:15.600504Z",
     "start_time": "2025-07-13T09:21:51.569308Z"
    }
   },
   "cell_type": "code",
   "source": [
    "react_graph = builder.compile()\n",
    "react_graph.invoke({\"messages\": \"What did Neo purchase at 7-11 according to Cypher's report in The Matrix?\"})"
   ],
   "id": "531f0186575a31e0",
   "outputs": [
    {
     "data": {
      "text/plain": [
       "{'messages': [HumanMessage(content='What does the Young Man say he is illustrating when discussing robbing banks compared to their current activities in Pulp Fiction?', additional_kwargs={}, response_metadata={}, id='f89889e1-25a6-499b-b9e7-ec87c435309d'),\n",
       "  AIMessage(content='', additional_kwargs={'tool_calls': [{'id': 'call_0_2db115a8-5d60-4112-9040-5f0699c760a4', 'function': {'arguments': '{\"movie_title\":\"Pulp Fiction\"}', 'name': 'check_movie_exists'}, 'type': 'function', 'index': 0}], 'refusal': None}, response_metadata={'token_usage': {'completion_tokens': 23, 'prompt_tokens': 343, 'total_tokens': 366, 'completion_tokens_details': None, 'prompt_tokens_details': {'audio_tokens': None, 'cached_tokens': 256}, 'prompt_cache_hit_tokens': 256, 'prompt_cache_miss_tokens': 87}, 'model_name': 'deepseek-chat', 'system_fingerprint': 'fp_8802369eaa_prod0623_fp8_kvcache', 'id': 'a73655b5-19dc-465c-9ba7-74601b627d5a', 'service_tier': None, 'finish_reason': 'tool_calls', 'logprobs': None}, id='run--60f7fae9-747e-49b5-b532-1e9b096d680e-0', tool_calls=[{'name': 'check_movie_exists', 'args': {'movie_title': 'Pulp Fiction'}, 'id': 'call_0_2db115a8-5d60-4112-9040-5f0699c760a4', 'type': 'tool_call'}], usage_metadata={'input_tokens': 343, 'output_tokens': 23, 'total_tokens': 366, 'input_token_details': {'cache_read': 256}, 'output_token_details': {}}),\n",
       "  ToolMessage(content='Script for Pulp Fiction is available', name='check_movie_exists', id='be5d816e-787f-4393-b233-2282d2e0424e', tool_call_id='call_0_2db115a8-5d60-4112-9040-5f0699c760a4'),\n",
       "  AIMessage(content='', additional_kwargs={'tool_calls': [{'id': 'call_0_4a288c32-f181-4d47-a91b-078f36c44097', 'function': {'arguments': '{\"title\":\"Pulp Fiction\",\"text_query\":\"Young Man say he is illustrating when discussing robbing banks compared to their current activities\"}', 'name': 'retrieve_documents'}, 'type': 'function', 'index': 0}], 'refusal': None}, response_metadata={'token_usage': {'completion_tokens': 42, 'prompt_tokens': 379, 'total_tokens': 421, 'completion_tokens_details': None, 'prompt_tokens_details': {'audio_tokens': None, 'cached_tokens': 320}, 'prompt_cache_hit_tokens': 320, 'prompt_cache_miss_tokens': 59}, 'model_name': 'deepseek-chat', 'system_fingerprint': 'fp_8802369eaa_prod0623_fp8_kvcache', 'id': '589b82bf-d009-4a60-89e2-43ab92f2963b', 'service_tier': None, 'finish_reason': 'tool_calls', 'logprobs': None}, id='run--50138716-77a9-4952-90a7-b4278295730e-0', tool_calls=[{'name': 'retrieve_documents', 'args': {'title': 'Pulp Fiction', 'text_query': 'Young Man say he is illustrating when discussing robbing banks compared to their current activities'}, 'id': 'call_0_4a288c32-f181-4d47-a91b-078f36c44097', 'type': 'tool_call'}], usage_metadata={'input_tokens': 379, 'output_tokens': 42, 'total_tokens': 421, 'input_token_details': {'cache_read': 320}, 'output_token_details': {}}),\n",
       "  ToolMessage(content='[\"INT. PAWNSHOP BACK ROOM \\x96 DAY\\\\nTWO SHOT \\x96 BUTCH AND MARSELLUS\\\\nThey are tied up in two separate chairs. In their mouths are two S&M-style ball gags (a belt goes around their heads and a little red ball sticks in their mouths). Both men are unconscious.\\\\nMaynard steps in with a fire extinguisher and SPRAYS both guys until they\\'re wide awake and wet as otters. The two prisoners look up at their captors.\\\\nMaynard stands in front of them, fire extinguisher in one hand, shotgun in the other, and Marsellus\\' .45 sticking in his belt.\\\\nMAYNARD\\\\nNobody kills anybody in my place of business except me or Zed.\\\\nA BUZZER buzzes.\\\\nMAYNARD\\\\nThat\\'s Zed.\\\\nWithout saying another word, Maynard climbs up the stairs that lead to red curtains and goes through them.\\\\nWE HEAR, on the other side of the curtains, Maynard let Zed inside the store.\\\\nButch and Marsellus look around the room. The basement of the pawnshop has been converted into a dungeon. After taking in their predicament, Butch and Marsellus look at each other, all traces of hostility gone, replaced by a terror they both share at what they\\'ve gotten themselves into.\\\\nMaynard and ZED come through the curtains. Zed is an even more intense version of Maynard, if such a thing is possible. The two hillbillys are obviously brothers. Where Maynard is a vicious pitbull, Zed is a deadly cobra. Zed walks in and stands in front of the two captives. He inspects them for a long time, then says:\\\\nZED\\\\n(to Maynard)\\\\nYou said you waited for me?\\\\nMAYNARD\\\\nI did.\\\\nZED\\\\nThen how come they\\'re all beat up?\\\\nMAYNARD\\\\nThey did that to each other. They was fightin\\' when they came in. This one was gonna shoot that one.\\\\nZED\\\\n(to Butch)\\\\nYou were gonna shoot him?\\\\nButch makes no reply.\\\\nZED\\\\nHey, is Grace gonna be okay in front of this place?\\\\nMAYNARD\\\\nYeah, it ain\\'t Tuesday is it?\\\\nZED\\\\nNo, it\\'s Thursday.\\\\nMAYNARD\\\\nThen she\\'ll be fine.\\\\nZED\\\\nBring out The Gimp.\\\\nMAYNARD\\\\nI think The Gimp\\'s sleepin\\'.\\\\nZED\\\\nWell, I guess you\\'ll just wake \\'em up then, won\\'t you?\\\\nMaynard opens a trap door in the floor.\\\\nMAYNARD\\\\n(yelling in the hole)\\\\nWake up!\\\\nMaynard reaches into the hole and comes back holding onto a leash.\\\\nHe gives it a rough yank and, from below the floor, rises THE GIMP.\\\\nThe Gimp is a man they keep dressed from head to toe in black leather bondage gear. There are zippers, buckles and studs here and there on the body. On his head is a black leather mask with two eye holes and a zipper (closed) for a mouth. They keep him in a hole in the floor big enough for a large dog.\\\\nZed takes the chair, sits it in front of the two prisoners, then lowers into it. Maynard hands The Gimp\\'s leash to Zed, then backs away.\\\\nMAYNARD\\\\n(to The Gimp)\\\\nDown!\\\\nThe Gimp gets on its knees.\\\\nMaynard hangs back while Zed appraises the two men.\\\\nMAYNARD\\\\nWho\\'s first?\\\\nZED\\\\nI ain\\'t fer sure yet.\\\\nThen with his little finger, Zed does a silent \\\\\"Eenie, meany, miney, moe... \\\\\" just his mouth mouthing the words and his finger going back and forth between the two.\\\\nButch are Marsellus are terrified.\\\\nMaynard looks back and forth at the victims.\\\\nThe Gimps\\'s eyes go from one to the other inside the mask.\\\\nZed continues his silent sing-song with his finger moving left to right, then it stops.\\\\nTWO SHOT \\x96 BUTCH AND MARSELLUS\\\\nAfter a beat, THE CAMERA MOVES to the right, zeroing in on Marsellus.\\\\nZed stands up.\\\\nZED\\\\nWanna do it here?\\\\nMAYNARD\\\\nNaw, drag big boy to Russell\\'s old room.\\\\nZed grabs Marsellus\\' chair and DRAGS him into Russell\\'s old room.\\\\nRussell, no doubt, was some other poor bastard that has the misfortune of stumbling into the Mason-Dixie pawnshop. Whatever happened to Russell is known only to Maynard and Zed because his old room, a back room in the back of the back room, is empty.\\\\nAs Marsellus is dragged away, he locks eyes with Butch before he disappears behind the door of Russell\\'s old room.\\\\nMAYNARD\\\\n(to The Gimp)\\\\nUp!\\\\nThe Gimp rises. Maynard ties The Gimp\\'s leash to a hook on the ceiling.\\\\nMAYNARD\\\\nKeep an eye on this one.\\\\nThe Gimp bows its head: \\\\\"yes.\\\\\" Maynard disappears into Russell\\'s old room. There must be a stereo in there because suddenly The Judds, singing in harmony, fills the air.\\\\nButch looks at The Gimp. The Gimp giggles from underneath the mask as if this were the funniest moment in the history of comedy.\\\\nFrom behind the door we hear country MUSIC, struggling, and:\\\\nMAYNARD (O.S.)\\\\nWhoa, this boy\\'s got a bit of fight in \\'em!\\\\nWe the HEAR Maynard and Zed beat on Marsellus.\\\\nZED (O.S.)\\\\nYou wanna fight? You wanna fight? Good, I like to fight!\\\\nButch pauses, listens to the voices. Then, in a panic, hurriedly struggles to get free.\\\\nThe Gimp is laughing wildly.\\\\nThe ropes are on too tight and Butch can\\'t break free.\\\\nThe Gimp slaps his knee laughing In the back room, we hear:\\\\nMAYNARD (O.S.)\\\\nThat\\'s it... that\\'s it boy, you\\'re goin\\' fine. Oooooooh, just like that... that\\'s good.\\\\n(grunting faster)\\\\nStay still... stay still goddamn ya! Zed goddammit, git over here and hold \\'em!\\\\nButch stops struggling and lifts up on his arms. Then, quite easily, the padded chair back slides up and off as if it were never connected by a bolt.\\\\nThe Gimp sees this and its eyes widen.\\\\nTHE GIMP\\\\nHuhng?\\\\nThe Gimp FLAILS WILDLY, trying to get the leash off the hook. He tries to yell, but all that comes out are excited gurgles and grunts.\\\\nButch is out of his chair, quickly dispensing three BOXER\\'S PUNCHES to its face. The punches knock The Gimp out, making him fall to his knees, this HANGING HIMSELF by the leash attached to the hook, Butch removes the ball gag, then silently makes his way through the red curtains.\\\\n\", \"INT. COFFEE SHOP \\x96 MORNING\\\\nA normal Denny\\'s, Spires-like coffee shop in Los Angeles. It\\'s about 9:00 in the morning. While the place isn\\'t jammed, there\\'s a healthy number of people drinking coffee, munching on bacon and eating eggs.\\\\nTwo of these people are a YOUNG MAN and a YOUNG WOMAN. The Young Man has a slight working-class English accent and, like his fellow countryman, smokes cigarettes like they\\'re going out of style.\\\\nIt is impossible to tell where the Young Woman is from or how old she is; everything she does contradicts something she did. The boy and girl sit in a booth. Their dialogue is to be said in a rapid pace \\\\\"HIS GIRL FRIDAY\\\\\" fashion.\\\\nYOUNG MAN\\\\nNo, forget it, it\\'s too risky. I\\'m through doin\\' that shit.\\\\nYOUNG WOMAN\\\\nYou always say that, the same thing every time: never again, I\\'m through, too dangerous.\\\\nYOUNG MAN\\\\nI know that\\'s what I always say. I\\'m always right too, but \\x96\\\\nYOUNG WOMAN\\\\n\\x96 but you forget about it in a day or two -\\\\nYOUNG MAN\\\\n\\x96 yeah, well, the days of me forgittin\\' are over, and the days of me rememberin\\' have just begun.\\\\nYOUNG WOMAN\\\\nWhen you go on like this, you know what you sound like?\\\\nYOUNG MAN\\\\nI sound like a sensible fucking man, is what I sound like.\\\\nYOUNG WOMAN\\\\nYou sound like a duck.\\\\n(imitates a duck)\\\\nQuack, quack, quack, quack, quack, quack, quack...\\\\nYOUNG MAN\\\\nWell take heart, \\'cause you\\'re never gonna hafta hear it again. Because since I\\'m never gonna do it again, you\\'re never gonna hafta hear me quack about how I\\'m never gonna do it again.\\\\nYOUNG WOMAN\\\\nAfter tonight.\\\\nThe boy and girl laugh, their laughter putting a pause in there, back and forth.\\\\nYOUNG MAN\\\\n(with a smile)\\\\nCorrect. I got all tonight to quack.\\\\nA WAITRESS comes by with a pot of coffee.\\\\nWAITRESS\\\\nCan I get anybody anymore coffee?\\\\nYOUNG WOMAN\\\\nOh yes, thank you.\\\\nThe Waitress pours the Young Woman\\'s coffee. The Young Man lights up another cigarette.\\\\nYOUNG MAN\\\\nI\\'m doin\\' fine.\\\\nThe Waitress leaves. The Young Man takes a drag off of his smoke.\\\\nThe Young Woman pours a ton of cream and sugar into her coffee.\\\\nThe Young Man goes right back into it.\\\\nYOUNG MAN\\\\nI mean the way it is now, you\\'re takin\\' the same fuckin\\' risk as when you rob a bank. You take more of a risk. Banks are easier! Federal banks aren\\'t supposed to stop you anyway, during a robbery. They\\'re insured, why should they care? You don\\'t even need a gun in a federal bank. I heard about this guy, walked into a federal bank with a portable phone, handed the phone to the teller, the guy on the other end of the phone said: \\\\\"We got this guy\\'s little girl, and if you don\\'t give him all your money, we\\'re gonna kill \\'er.\\\\\"\\\\nYOUNG WOMAN\\\\nDid it work?\\\\nYOUNG MAN\\\\nFuckin\\' A it worked, that\\'s what I\\'m talkin\\' about! Knucklehead walks in a bank with a telephone, not a pistol, not a shotgun, but a fuckin\\' phone, cleans the place out, and they don\\'t lift a fuckin\\' finger.\\\\nYOUNG WOMAN\\\\nDid they hurt the little girl?\\\\nYOUNG MAN\\\\nI don\\'t know. There probably never was a little girl \\x96 the point of the story isn\\'t the little girl. The point of the story is they robbed the bank with a telephone.\\\\nYOUNG WOMAN\\\\nYou wanna rob banks?\\\\nYOUNG MAN\\\\nI\\'m not sayin\\' I wanna rob banks, I\\'m just illustrating that if we did, it would be easier than what we been doin\\'.\\\\nYOUNG WOMAN\\\\nSo you don\\'t want to be a bank robber?\\\\nYOUNG MAN\\\\nNaw, all those guys are goin\\' down the same road, either dead or servin\\' twenty.\\\\nYOUNG WOMAN\\\\nAnd no more liquor stores?\\\\nYOUNG MAN\\\\nWhat have we been talking about? Yeah, no more-liquor-stores. Besides, it ain\\'t the giggle it usta be. Too many foreigners own liquor stores. Vietnamese, Koreans, they can\\'t fuckin\\' speak English. You tell \\'em: \\\\\"Empty out the register,\\\\\" and they don\\'t know what it fuckin\\' means. They make it too personal. We keep on, one of those gook motherfuckers\\' gonna make us kill \\'em.\\\\nYOUNG WOMAN\\\\nI\\'m not gonna kill anybody.\\\\nYOUNG MAN\\\\nI don\\'t wanna kill anybody either. But they\\'ll probably put us in a situation where it\\'s us of them. And if it\\'s not the gooks, it these old Jews who\\'ve owned the store for fifteen fuckin\\' generations. Ya got Grandpa Irving sittin\\' behind the counter with a fuckin\\' Magnum. Try walkin\\' into one of those stores with nothin\\' but a telephone, see how far it gets you. Fuck it, forget it, we\\'re out of it.\\\\nYOUNG WOMAN\\\\nWell, what else is there, day jobs?\\\\nYOUNG MAN\\\\n(laughing)\\\\nNot this life.\\\\nYOUNG WOMAN\\\\nWell what then?\\\\nHe calls to the Waitress.\\\\nYOUNG MAN\\\\nGarcon! Coffee!\\\\nThen looks to his girl.\\\\nYOUNG MAN\\\\nThis place.\\\\nThe Waitress comes by, pouring him some more.\\\\nWAITRESS\\\\n(snotty)\\\\n\\\\\"Garcon\\\\\" means boy.\\\\nShe splits.\\\\nYOUNG WOMAN\\\\nHere? It\\'s a coffee shop.\\\\nYOUNG MAN\\\\nWhat\\'s wrong with that? People never rob restaurants, why not? Bars, liquor stores, gas stations, you get your head blown off stickin\\' up one of them. Restaurants, on the other hand, you catch with their pants down. They\\'re not expecting to get robbed, or not as expecting.\\\\nYOUNG WOMAN\\\\n(taking to idea)\\\\nI bet in places like this you could cut down on the hero factor.\\\\nYOUNG MAN\\\\nCorrect. Just like banks, these places are insured. The managers don\\'t give a fuck, they\\'re just tryin\\' to get ya out the door before you start pluggin\\' diners. Waitresses, forget it, they ain\\'t takin\\' a bullet for the register. Busboys, some wetback gettin\\' paid a dollar fifty a hour gonna really give a fuck you\\'re stealin\\' from the owner. Customers are sittin\\' there with food in their mouths, they don\\'t know what\\'s goin\\' on. One minute they\\'re havin\\' a Denver omelet, next minute somebody\\'s stickin\\' a gun in their face.\\\\nThe Young Woman visibly takes in the idea. The Young Man continues in a low voice.\\\\nYOUNG MAN\\\\nSee, I got the idea last liquor store we stuck up. \\'Member all those customers kept comin\\' in?\\\\nYOUNG WOMAN\\\\nYeah.\\\\nYOUNG MAN\\\\nThen you got the idea to take everybody\\'s wallet.\\\\nYOUNG WOMAN\\\\nUh-huh.\\\\nYOUNG MAN\\\\nThat was a good idea.\\\\nYOUNG WOMAN\\\\nThanks.\\\\nYOUNG MAN\\\\nWe made more from the wallets then we did the register.\\\\nYOUNG WOMAN\\\\nYes we did.\\\\nYOUNG MAN\\\\nA lot of people go to restaurants.\\\\nYOUNG WOMAN\\\\nA lot of wallets.\\\\nYOUNG MAN\\\\nPretty smart, huh?\\\\nThe Young Woman scans the restaurant with this new information.\\\\nShe sees all the PATRONS eating, lost in conversations. The tired WAITRESS, taking orders. The BUSBOYS going through the motions, collecting dishes. The MANAGER complaining to the COOK about something. A smiles breaks out on the Young Woman\\'s face.\\\\nYOUNG WOMAN\\\\nPretty smart.\\\\n(into it)\\\\nI\\'m ready, let\\'s go, right here, right now.\\\\nYOUNG MAN\\\\nRemember, same as before, you\\'re crowd control, I handle the employees.\\\\nYOUNG WOMAN\\\\nGot it.\\\\nThey both take out their .32-caliber pistols and lay them on the table. He looks at her and she back at him.\\\\nYOUNG WOMAN\\\\nI love you, Pumpkin.\\\\nYOUNG MAN\\\\nI love you, Honey Bunny.\\\\nAnd with that, Pumpkin and Honey Bunny grab their weapons, stand up and rob the restaurant. Pumpkin\\'s robbery persona is that of the in-control professional. Honey Bunny\\'s is that of the psychopathic, hair-triggered, loose cannon.\\\\nPUMPKIN\\\\n(yelling to all)\\\\nEverybody be cool this is a robbery!\\\\nHONEY BUNNY\\\\nAny of you fuckin\\' pricks move and I\\'ll execute every one of you motherfuckers! Got that?\\\\nCUT TO:\\\\nCREDIT SEQUENCE:\\\\n\\\\\"PULP FICTION\\\\\"\\\\n\", \"INT. LANCE\\'S BEDROOM \\x96 NIGHT\\\\nLance, late 20s, is a young man with a wild and woolly appearance that goes hand-in-hand with his wild and woolly personality. LANCE has been selling drugs his entire adult life. He\\'s never had a day job, never filed a tax return and has never been arrested. He wears a red flannel shirt over a \\\\\"Speed Racer\\\\\" tee-shirt.\\\\nThree bags of heroin lie on Lance\\'s bed.\\\\nLance and Vincent stand at the foot of the bed.\\\\nLANCE\\\\nNow this is Panda, from Mexico. Very good stuff. This is Bava, different, but equally good. And this is Choco from the Hartz Mountains of Germany. Now the first two are the same, forty-\\\\nfive an ounce \\x96 those are friend prices \\x96 but this one...\\\\n(pointing to the Choco)\\\\n...this one\\'s a little more expensive. It\\'s fifty-five. But when you shoot it, you\\'ll know where that extra money went. Nothing wrong with the first two. It\\'s real, real, real, good shit. But this one\\'s a fuckin\\' madman.\\\\nVINCENT\\\\nRemember, I just got back from Amsterdam.\\\\nLANCE\\\\nAm I a nigger? Are you in Inglewood? No. You\\'re in my house. White people who know the difference between good shit and bad shit, this is the house they come to. My shit, I\\'ll take the Pepsi Challenge with Amsterdam shit any ol\\' day of the fuckin\\' week.\\\\nVINCENT\\\\nThat\\'s a bold statement.\\\\nLANCE\\\\nThis ain\\'t Amsterdam, Vince. This is a seller\\'s market. Coke is fuckin\\' dead as disco. Heroin\\'s comin\\' back in a big fuckin\\' way. It\\'s this whole seventies retro. Bell bottoms, heroin, they\\'re as hot as hell.\\\\nVincent takes out a roll of money that would choke a horse to death.\\\\nVINCENT\\\\nGive me three hundred worth of the madman. If it\\'s as good as you say, I\\'ll be back for a thousand.\\\\nLANCE\\\\nI just hope I still have it. Whaddya think of Trudi? She ain\\'t got a boyfriend, wanna hand out an\\' get high?\\\\nVINCENT\\\\nWhich one\\'s Trudi? The one with all the shit in her face?\\\\nLANCE\\\\nNo, that\\'s Jody. That\\'s my wife.\\\\nVincent and Lance giggle at the \\\\\"faux pas.\\\\\"\\\\nVINCENT\\\\nI\\'m on my way somewhere. I got a dinner engagement. Rain check?\\\\nLANCE\\\\nNo problem?\\\\nVincent takes out his case of the works (utensils for shooting up).\\\\nVINCENT\\\\nYou don\\'t mind if I shoot up here?\\\\nLANCE\\\\nMe casa, su casa.\\\\nVINCENT\\\\nMucho gracias.\\\\nVincent takes his works out of his case and, as the two continue to talk, Vince shoots up.\\\\nLANCE\\\\nStill got your Malibu?\\\\nVINCENT\\\\nYou know what some fucker did to it the other day?\\\\nLANCE\\\\nWhat?\\\\nVINCENT\\\\nFuckin\\' keyed it.\\\\nLANCE\\\\nOh man, that\\'s fucked up.\\\\nVINCENT\\\\nTell me about it. I had the goddamn thing in storage three years. It\\'s out five fuckin\\' days \\x96 five days, and some dickless piece of shit fucks with it.\\\\nLANCE\\\\nThey should be fuckin\\' killed. No trial, no jury, straight to execution.\\\\nAs he cooks his heroin...\\\\nVINCENT\\\\nI just wish I caught \\'em doin\\' it, ya know? Oh man, I\\'d give anything to catch \\'em doin\\' it. It\\'a been worth his doin\\' it, if I coulda just caught \\'em, you know what I mean?\\\\nLANCE\\\\nIt\\'s chicken shit. You don\\'t fuck another man\\'s vehicle.\\\\nCLOSEUP \\x96 THE NEEDLE\\\\nGoing into Vincent\\'s vein.\\\\nCLOSEUP \\x96 BLOOD\\\\nSpurting back into the syringe, mixing with the heroin.\\\\nCLOSEUP \\x96 VINCENT\\'S THUMB\\\\nPushing down on the plunger.\\\\nCUT TO:\\\\n\"]', name='retrieve_documents', id='33406d50-d106-4846-bff5-2bbc588de7ea', tool_call_id='call_0_4a288c32-f181-4d47-a91b-078f36c44097'),\n",
       "  AIMessage(content='In *Pulp Fiction*, the Young Man (Pumpkin) is discussing the risks of their current activities compared to robbing banks. He illustrates his point by saying:\\n\\n> \"I mean the way it is now, you\\'re takin\\' the same fuckin\\' risk as when you rob a bank. You take more of a risk. Banks are easier! Federal banks aren\\'t supposed to stop you anyway, during a robbery. They\\'re insured, why should they care? You don\\'t even need a gun in a federal bank.\"\\n\\nHe then tells a story about a guy who robbed a bank with just a portable phone, convincing the teller that he had their little girl hostage. The point of the story is to show that robbing banks can be easier and less risky than their current activities (robbing liquor stores), because banks are insured and less likely to resist. However, he clarifies that he doesn\\'t actually want to rob banks, just that it would be easier than what they\\'ve been doing.', additional_kwargs={'refusal': None}, response_metadata={'token_usage': {'completion_tokens': 204, 'prompt_tokens': 4945, 'total_tokens': 5149, 'completion_tokens_details': None, 'prompt_tokens_details': {'audio_tokens': None, 'cached_tokens': 384}, 'prompt_cache_hit_tokens': 384, 'prompt_cache_miss_tokens': 4561}, 'model_name': 'deepseek-chat', 'system_fingerprint': 'fp_8802369eaa_prod0623_fp8_kvcache', 'id': 'b5c182d7-bd1a-44ea-94ed-617aac660e44', 'service_tier': None, 'finish_reason': 'stop', 'logprobs': None}, id='run--434c3b3b-b1c2-4e75-9ab4-a2740a542887-0', usage_metadata={'input_tokens': 4945, 'output_tokens': 204, 'total_tokens': 5149, 'input_token_details': {'cache_read': 384}, 'output_token_details': {}})]}"
      ]
     },
     "execution_count": 11,
     "metadata": {},
     "output_type": "execute_result"
    }
   ],
   "execution_count": 11
  },
  {
   "metadata": {
    "ExecuteTime": {
     "end_time": "2025-07-13T09:32:06.429366Z",
     "start_time": "2025-07-13T09:31:50.941790Z"
    }
   },
   "cell_type": "code",
   "source": "react_graph.invoke({\"messages\": \"What did Neo purchase at 7-11 according to Cypher's report in The Matrix?\"})\n",
   "id": "807c401080a82644",
   "outputs": [
    {
     "data": {
      "text/plain": [
       "{'messages': [HumanMessage(content=\"What did Neo purchase at 7-11 according to Cypher's report in The Matrix?\", additional_kwargs={}, response_metadata={}, id='a16a45fc-6978-4b50-bd34-de2d322f8727'),\n",
       "  AIMessage(content='', additional_kwargs={'tool_calls': [{'id': 'call_0_aefa4b5b-3600-4a2e-bd45-36001f8cd339', 'function': {'arguments': '{\"movie_title\":\"The Matrix\"}', 'name': 'check_movie_exists'}, 'type': 'function', 'index': 0}], 'refusal': None}, response_metadata={'token_usage': {'completion_tokens': 23, 'prompt_tokens': 338, 'total_tokens': 361, 'completion_tokens_details': None, 'prompt_tokens_details': {'audio_tokens': None, 'cached_tokens': 256}, 'prompt_cache_hit_tokens': 256, 'prompt_cache_miss_tokens': 82}, 'model_name': 'deepseek-chat', 'system_fingerprint': 'fp_8802369eaa_prod0623_fp8_kvcache', 'id': '0a7fa6df-53fe-4282-a414-a4c5d8ae36cb', 'service_tier': None, 'finish_reason': 'tool_calls', 'logprobs': None}, id='run--f4911f89-c054-455f-81f4-5f20a751ec23-0', tool_calls=[{'name': 'check_movie_exists', 'args': {'movie_title': 'The Matrix'}, 'id': 'call_0_aefa4b5b-3600-4a2e-bd45-36001f8cd339', 'type': 'tool_call'}], usage_metadata={'input_tokens': 338, 'output_tokens': 23, 'total_tokens': 361, 'input_token_details': {'cache_read': 256}, 'output_token_details': {}}),\n",
       "  ToolMessage(content='Script for The Matrix is available', name='check_movie_exists', id='99f61bf7-631e-4183-ac8e-3f38a4452186', tool_call_id='call_0_aefa4b5b-3600-4a2e-bd45-36001f8cd339'),\n",
       "  AIMessage(content='', additional_kwargs={'tool_calls': [{'id': 'call_0_ffaf5e96-0e37-458e-ad18-b7ba1931fab5', 'function': {'arguments': '{\"title\":\"The Matrix\",\"text_query\":\"Neo purchase at 7-11 according to Cypher\\'s report\"}', 'name': 'retrieve_documents'}, 'type': 'function', 'index': 0}], 'refusal': None}, response_metadata={'token_usage': {'completion_tokens': 39, 'prompt_tokens': 372, 'total_tokens': 411, 'completion_tokens_details': None, 'prompt_tokens_details': {'audio_tokens': None, 'cached_tokens': 320}, 'prompt_cache_hit_tokens': 320, 'prompt_cache_miss_tokens': 52}, 'model_name': 'deepseek-chat', 'system_fingerprint': 'fp_8802369eaa_prod0623_fp8_kvcache', 'id': '050178cc-00ab-4e1c-a099-50a975672f9f', 'service_tier': None, 'finish_reason': 'tool_calls', 'logprobs': None}, id='run--3ff2f05b-dc4f-4185-926a-92c9a15e69e6-0', tool_calls=[{'name': 'retrieve_documents', 'args': {'title': 'The Matrix', 'text_query': \"Neo purchase at 7-11 according to Cypher's report\"}, 'id': 'call_0_ffaf5e96-0e37-458e-ad18-b7ba1931fab5', 'type': 'tool_call'}], usage_metadata={'input_tokens': 372, 'output_tokens': 39, 'total_tokens': 411, 'input_token_details': {'cache_read': 320}, 'output_token_details': {}}),\n",
       "  ToolMessage(content='[\"INT. MAIN DECK\\\\nThe core glows with monitor light. Cypher is in the\\\\noperator\\'s chair as Neo cones up behind him.\\\\nCYPHER\\\\nWhoa! Shit, Neo, you scared the\\\\nbejeezus out of ne.\\\\nNEO\\\\nSorry.\\\\nCYPHER\\\\nNo, it\\'s all right.\\\\nNEO\\\\nWhat are you doing?\\\\nCYPHER\\\\nMidnight watch.\\\\nNeo\\'s eyes light up as he steps closer to the screens\\\\nthat seem alive with a constant flow of data.\\\\nNEO\\\\nIs that... ?\\\\nCYPHER\\\\nThe Matrix? Yeah.\\\\nThe monitors are packed with bizarre codes and equations.\\\\nCYPHER\\\\nYou want a drink?\\\\nHe pours Neo a drink from a large plastic jug.\\\\nCYPHER\\\\nI\\'ll tell you, I feel for you,\\\\nman. I really do. Most of us\\\\nwere still young, just punks, when\\\\nMorpheus jacked us. But you, you\\\\nhad a real life.\\\\nNeo takes a sip and it almost kills him. Cypher pounds\\\\non his back.\\\\nCYPHER\\\\nGood shit, huh? Dozer makes it.\\\\nIt\\'s good for two things:\\\\ndegreasing engines and killing\\\\nbrain cells.\\\\nRed-faced, Neo finally stops coughing.\\\\nCYPHER\\\\nDid he tell you why he did it?\\\\nNeo nods.\\\\nCYPHER,\\\\nI\\'ll be the didn\\'t tell you that\\\\nthis wasn\\'t the first time he\\\\nthought he found the One.\\\\nNeo shakes his head as Cypher fills his cup and laughs.\\\\nCYPHER\\\\nLet me give you a piece of advice.\\\\nBetween you and me, if Morpheus\\\\nsays you can fly, I wouldn\\'t go\\\\njumping out any windows to find\\\\nout if he\\'s right. Understand?\\\\nCypher raises his drink. Neo swallows another throat-\\\\nscorching mouthful.\\\\nCYPHER\\\\nWelcome to the real world!\\\\n\", \"\\\\nTHE MATRIX\\\\nWritten by\\\\nLarry and Andy Wachowski\\\\nApril 8, 1996\\\\nFADE IN ON:\\\\nCOMPUTER SCREEN\\\\nSo close it has no boundaries.\\\\nA blinking cursor pulses in the electric darkness like a\\\\nheart coursing with phosphorous light, burning beneath\\\\nthe derma of black-neon glass.\\\\nA PHONE begins to RING, we hear it as though we were making the call. The cursor continues to throb,\\\\nrelentlessly patient, until --\\\\nMAN (V.O.)\\\\nHello?\\\\nData now slashes across the screen, information flashing\\\\nfaster than we read.\\\\nSCREEN\\\\nCall trans opt: received.\\\\n2-19-96 13:24:18 REC:Log>\\\\nWOMAN (V.O.)\\\\nI\\'m inside. Anything to report?\\\\nWe listen to the phone conversation as though we were on\\\\na third line. The man\\'s name is CYPHER. The woman, TRINITY.\\\\nCYPHER (V.O.)\\\\nLet\\'s see. Target left work at\\\\n5:01 PM.\\\\nSCREEN\\\\nTrace program: running.\\\\nThe entire screen fills with racing columns of numbers.\\\\nShimmering like green-electric rivets, they rush at a 10-\\\\ndigit phone number in the top corner.\\\\nCYPHER (V.O.)\\\\nHe caught the northbound Howard line. Got off at Sheridan. Stopped at 7-11. Purchased six-\\\\npack of beer and a box of Captain Crunch. Returned home.\\\\nThe area code is identified. The first three numbers\\\\nsuddenly fixed, leaving only seven flowing columns.\\\\nWe begin MOVING TOWARD the screen, CLOSING IN as each digit is matched, one by one, snapping into place like\\\\nthe wheels of a slot machine.\\\\nTRINITY (V.O.)\\\\nAll right, you\\'re relieved. Use\\\\nthe usual exit.\\\\nCYPHER (V.O.)\\\\nDo you know when we\\'re going to\\\\nmake contact?\\\\nTRINITY\\\\nSoon.\\\\nOnly two thin digits left.\\\\nCYPHER (V.O.)\\\\nJust between you and me, you don\\'t believe it, do you? You don\\'t believe this guy is the one?\\\\nTRINITY (V.O.)\\\\nI think Morpheus believes he is.\\\\nCYPHER (V.O.)\\\\nI know. But what about you?\\\\nTRINITY (V.O.)\\\\nI think Morpheus knows things that\\\\nI don\\'t.\\\\nCYPHER (V.O.)\\\\nYeah, but if he\\'s wrong --\\\\nThe final number pops into place --\\\\nTRINITY (V.O.)\\\\nDid you hear that?\\\\nCYPHER (V.O.)\\\\nHear what?\\\\nSCREEN\\\\nTrace complete. Call origin:\\\\n#312-555-0690\\\\nTRINITY (V.O.)\\\\nAre you sure this line is clean?\\\\nCYPHER (V.O.)\\\\nYeah, course I\\'m sure.\\\\nWe MOVE STILL CLOSER, the ELECTRIC HUM of the green numbers GROWING \", \"INT. APPLIANCE STORE (MATRIX) - DAY\\\\nThey\\'re both listening, trying to figure out what is\\\\nhappening when the store PHONE starts to RING.\\\\nTrinity smiles, tears moistening her eyes as Neo throws\\\\nhis arms around her. For a moment, it looks as if they\\\\nmight kiss before Trinity lets go.\\\\nTRINITY\\\\nWe should, we should hurry.\\\\nNEO\\\\nYeah. Right.\\\\n\"]', name='retrieve_documents', id='943eaf85-6677-46b0-b4df-37c6f17cc6d8', tool_call_id='call_0_ffaf5e96-0e37-458e-ad18-b7ba1931fab5'),\n",
       "  AIMessage(content=\"According to Cypher's report in *The Matrix*, Neo purchased a six-pack of beer and a box of Captain Crunch at the 7-11.\", additional_kwargs={'refusal': None}, response_metadata={'token_usage': {'completion_tokens': 32, 'prompt_tokens': 1637, 'total_tokens': 1669, 'completion_tokens_details': None, 'prompt_tokens_details': {'audio_tokens': None, 'cached_tokens': 384}, 'prompt_cache_hit_tokens': 384, 'prompt_cache_miss_tokens': 1253}, 'model_name': 'deepseek-chat', 'system_fingerprint': 'fp_8802369eaa_prod0623_fp8_kvcache', 'id': '0ce963b1-0f7d-4502-8ae7-cfb508a6e4ed', 'service_tier': None, 'finish_reason': 'stop', 'logprobs': None}, id='run--40a3c86f-c48b-40f1-bed1-084da27f5389-0', usage_metadata={'input_tokens': 1637, 'output_tokens': 32, 'total_tokens': 1669, 'input_token_details': {'cache_read': 384}, 'output_token_details': {}})]}"
      ]
     },
     "execution_count": 12,
     "metadata": {},
     "output_type": "execute_result"
    }
   ],
   "execution_count": 12
  },
  {
   "metadata": {},
   "cell_type": "markdown",
   "source": "### With Memory\n",
   "id": "f45b5a343ebe765e"
  },
  {
   "metadata": {
    "ExecuteTime": {
     "end_time": "2025-07-12T11:48:47.038762Z",
     "start_time": "2025-07-12T11:48:47.030766Z"
    }
   },
   "cell_type": "code",
   "source": [
    "# Memory\n",
    "memory = MemorySaver()\n",
    "# Specify a thread\n",
    "config = {\"configurable\": {\"thread_id\": \"1\"}}\n",
    "react_graph_memory = builder.compile(checkpointer=memory)"
   ],
   "id": "6eb2773692a8aaa2",
   "outputs": [],
   "execution_count": 13
  },
  {
   "metadata": {
    "ExecuteTime": {
     "end_time": "2025-07-12T11:48:54.961505Z",
     "start_time": "2025-07-12T11:48:47.175307Z"
    }
   },
   "cell_type": "code",
   "source": "react_graph_memory.invoke({\"messages\": \"Hi, what can you do?\"}, config)",
   "id": "20d68a9eebf17924",
   "outputs": [
    {
     "data": {
      "text/plain": [
       "{'messages': [HumanMessage(content='Hi, what can you do?', additional_kwargs={}, response_metadata={}, id='e9932dd9-97ee-4a25-96e7-6c50de8807d8'),\n",
       "  AIMessage(content=\"I can help you answer questions about movie scripts! For example, I can:\\n\\n1. **Check if a movie exists** in the database.\\n2. **Retrieve specific parts of a movie script** based on your query (e.g., a character's dialogue, a scene description, or a particular line).\\n3. **Provide summaries or details** about scenes, characters, or plot points if the information is available in the script.\\n\\nJust let me know the movie title and what you're looking for, and I'll do my best to assist you!\", additional_kwargs={'refusal': None}, response_metadata={'token_usage': {'completion_tokens': 112, 'prompt_tokens': 326, 'total_tokens': 438, 'completion_tokens_details': None, 'prompt_tokens_details': {'audio_tokens': None, 'cached_tokens': 64}, 'prompt_cache_hit_tokens': 64, 'prompt_cache_miss_tokens': 262}, 'model_name': 'deepseek-chat', 'system_fingerprint': 'fp_8802369eaa_prod0623_fp8_kvcache', 'id': 'b7519354-66e5-4782-bb92-6ee8f20a85fb', 'service_tier': None, 'finish_reason': 'stop', 'logprobs': None}, id='run--06dac9da-b43b-4dc4-974c-82a37603b635-0', usage_metadata={'input_tokens': 326, 'output_tokens': 112, 'total_tokens': 438, 'input_token_details': {'cache_read': 64}, 'output_token_details': {}})]}"
      ]
     },
     "execution_count": 14,
     "metadata": {},
     "output_type": "execute_result"
    }
   ],
   "execution_count": 14
  },
  {
   "metadata": {
    "ExecuteTime": {
     "end_time": "2025-07-12T11:49:03.888938Z",
     "start_time": "2025-07-12T11:48:55.111231Z"
    }
   },
   "cell_type": "code",
   "source": "react_graph_memory.invoke({\"messages\": \"Do you have Batman Begins Script?\"}, config)",
   "id": "4c801849d3b62725",
   "outputs": [
    {
     "data": {
      "text/plain": [
       "{'messages': [HumanMessage(content='Hi, what can you do?', additional_kwargs={}, response_metadata={}, id='e9932dd9-97ee-4a25-96e7-6c50de8807d8'),\n",
       "  AIMessage(content=\"I can help you answer questions about movie scripts! For example, I can:\\n\\n1. **Check if a movie exists** in the database.\\n2. **Retrieve specific parts of a movie script** based on your query (e.g., a character's dialogue, a scene description, or a particular line).\\n3. **Provide summaries or details** about scenes, characters, or plot points if the information is available in the script.\\n\\nJust let me know the movie title and what you're looking for, and I'll do my best to assist you!\", additional_kwargs={'refusal': None}, response_metadata={'token_usage': {'completion_tokens': 112, 'prompt_tokens': 326, 'total_tokens': 438, 'completion_tokens_details': None, 'prompt_tokens_details': {'audio_tokens': None, 'cached_tokens': 64}, 'prompt_cache_hit_tokens': 64, 'prompt_cache_miss_tokens': 262}, 'model_name': 'deepseek-chat', 'system_fingerprint': 'fp_8802369eaa_prod0623_fp8_kvcache', 'id': 'b7519354-66e5-4782-bb92-6ee8f20a85fb', 'service_tier': None, 'finish_reason': 'stop', 'logprobs': None}, id='run--06dac9da-b43b-4dc4-974c-82a37603b635-0', usage_metadata={'input_tokens': 326, 'output_tokens': 112, 'total_tokens': 438, 'input_token_details': {'cache_read': 64}, 'output_token_details': {}}),\n",
       "  HumanMessage(content='Do you have Batman Begins Script?', additional_kwargs={}, response_metadata={}, id='30e7411b-887e-44bc-abc9-092d05bccefa'),\n",
       "  AIMessage(content='', additional_kwargs={'tool_calls': [{'id': 'call_0_8f315e05-a503-46b1-9e5f-68235fdb6421', 'function': {'arguments': '{\"movie_title\":\"Batman Begins\"}', 'name': 'check_movie_exists'}, 'type': 'function', 'index': 0}], 'refusal': None}, response_metadata={'token_usage': {'completion_tokens': 24, 'prompt_tokens': 449, 'total_tokens': 473, 'completion_tokens_details': None, 'prompt_tokens_details': {'audio_tokens': None, 'cached_tokens': 384}, 'prompt_cache_hit_tokens': 384, 'prompt_cache_miss_tokens': 65}, 'model_name': 'deepseek-chat', 'system_fingerprint': 'fp_8802369eaa_prod0623_fp8_kvcache', 'id': 'cf22c93d-7d01-4378-8a6f-02a62f9d01ee', 'service_tier': None, 'finish_reason': 'tool_calls', 'logprobs': None}, id='run--9971b578-1701-4e95-ac3c-dfef8dd1ba9e-0', tool_calls=[{'name': 'check_movie_exists', 'args': {'movie_title': 'Batman Begins'}, 'id': 'call_0_8f315e05-a503-46b1-9e5f-68235fdb6421', 'type': 'tool_call'}], usage_metadata={'input_tokens': 449, 'output_tokens': 24, 'total_tokens': 473, 'input_token_details': {'cache_read': 384}, 'output_token_details': {}}),\n",
       "  ToolMessage(content='false', name='check_movie_exists', id='5a64b72a-a9f5-4a4c-a4b0-2012f9297f91', tool_call_id='call_0_8f315e05-a503-46b1-9e5f-68235fdb6421'),\n",
       "  AIMessage(content='It looks like \"Batman Begins\" is not available in the database. Let me know if you\\'d like me to check for another movie or assist you with something else!', additional_kwargs={'refusal': None}, response_metadata={'token_usage': {'completion_tokens': 36, 'prompt_tokens': 480, 'total_tokens': 516, 'completion_tokens_details': None, 'prompt_tokens_details': {'audio_tokens': None, 'cached_tokens': 448}, 'prompt_cache_hit_tokens': 448, 'prompt_cache_miss_tokens': 32}, 'model_name': 'deepseek-chat', 'system_fingerprint': 'fp_8802369eaa_prod0623_fp8_kvcache', 'id': '269b72a1-f0f2-4bb6-ae45-24bf325f17f1', 'service_tier': None, 'finish_reason': 'stop', 'logprobs': None}, id='run--2be5e384-d19d-4825-a2c3-8693194f46e3-0', usage_metadata={'input_tokens': 480, 'output_tokens': 36, 'total_tokens': 516, 'input_token_details': {'cache_read': 448}, 'output_token_details': {}})]}"
      ]
     },
     "execution_count": 15,
     "metadata": {},
     "output_type": "execute_result"
    }
   ],
   "execution_count": 15
  },
  {
   "metadata": {
    "ExecuteTime": {
     "end_time": "2025-07-12T11:49:27.767622Z",
     "start_time": "2025-07-12T11:49:04.030938Z"
    }
   },
   "cell_type": "code",
   "source": "react_graph_memory.invoke({\"messages\": \"12 monkeys airport parking lot scene\"}, config)",
   "id": "ad502cb9fbb76a6d",
   "outputs": [
    {
     "data": {
      "text/plain": [
       "{'messages': [HumanMessage(content='Hi, what can you do?', additional_kwargs={}, response_metadata={}, id='e9932dd9-97ee-4a25-96e7-6c50de8807d8'),\n",
       "  AIMessage(content=\"I can help you answer questions about movie scripts! For example, I can:\\n\\n1. **Check if a movie exists** in the database.\\n2. **Retrieve specific parts of a movie script** based on your query (e.g., a character's dialogue, a scene description, or a particular line).\\n3. **Provide summaries or details** about scenes, characters, or plot points if the information is available in the script.\\n\\nJust let me know the movie title and what you're looking for, and I'll do my best to assist you!\", additional_kwargs={'refusal': None}, response_metadata={'token_usage': {'completion_tokens': 112, 'prompt_tokens': 326, 'total_tokens': 438, 'completion_tokens_details': None, 'prompt_tokens_details': {'audio_tokens': None, 'cached_tokens': 64}, 'prompt_cache_hit_tokens': 64, 'prompt_cache_miss_tokens': 262}, 'model_name': 'deepseek-chat', 'system_fingerprint': 'fp_8802369eaa_prod0623_fp8_kvcache', 'id': 'b7519354-66e5-4782-bb92-6ee8f20a85fb', 'service_tier': None, 'finish_reason': 'stop', 'logprobs': None}, id='run--06dac9da-b43b-4dc4-974c-82a37603b635-0', usage_metadata={'input_tokens': 326, 'output_tokens': 112, 'total_tokens': 438, 'input_token_details': {'cache_read': 64}, 'output_token_details': {}}),\n",
       "  HumanMessage(content='Do you have Batman Begins Script?', additional_kwargs={}, response_metadata={}, id='30e7411b-887e-44bc-abc9-092d05bccefa'),\n",
       "  AIMessage(content='', additional_kwargs={'tool_calls': [{'id': 'call_0_8f315e05-a503-46b1-9e5f-68235fdb6421', 'function': {'arguments': '{\"movie_title\":\"Batman Begins\"}', 'name': 'check_movie_exists'}, 'type': 'function', 'index': 0}], 'refusal': None}, response_metadata={'token_usage': {'completion_tokens': 24, 'prompt_tokens': 449, 'total_tokens': 473, 'completion_tokens_details': None, 'prompt_tokens_details': {'audio_tokens': None, 'cached_tokens': 384}, 'prompt_cache_hit_tokens': 384, 'prompt_cache_miss_tokens': 65}, 'model_name': 'deepseek-chat', 'system_fingerprint': 'fp_8802369eaa_prod0623_fp8_kvcache', 'id': 'cf22c93d-7d01-4378-8a6f-02a62f9d01ee', 'service_tier': None, 'finish_reason': 'tool_calls', 'logprobs': None}, id='run--9971b578-1701-4e95-ac3c-dfef8dd1ba9e-0', tool_calls=[{'name': 'check_movie_exists', 'args': {'movie_title': 'Batman Begins'}, 'id': 'call_0_8f315e05-a503-46b1-9e5f-68235fdb6421', 'type': 'tool_call'}], usage_metadata={'input_tokens': 449, 'output_tokens': 24, 'total_tokens': 473, 'input_token_details': {'cache_read': 384}, 'output_token_details': {}}),\n",
       "  ToolMessage(content='false', name='check_movie_exists', id='5a64b72a-a9f5-4a4c-a4b0-2012f9297f91', tool_call_id='call_0_8f315e05-a503-46b1-9e5f-68235fdb6421'),\n",
       "  AIMessage(content='It looks like \"Batman Begins\" is not available in the database. Let me know if you\\'d like me to check for another movie or assist you with something else!', additional_kwargs={'refusal': None}, response_metadata={'token_usage': {'completion_tokens': 36, 'prompt_tokens': 480, 'total_tokens': 516, 'completion_tokens_details': None, 'prompt_tokens_details': {'audio_tokens': None, 'cached_tokens': 448}, 'prompt_cache_hit_tokens': 448, 'prompt_cache_miss_tokens': 32}, 'model_name': 'deepseek-chat', 'system_fingerprint': 'fp_8802369eaa_prod0623_fp8_kvcache', 'id': '269b72a1-f0f2-4bb6-ae45-24bf325f17f1', 'service_tier': None, 'finish_reason': 'stop', 'logprobs': None}, id='run--2be5e384-d19d-4825-a2c3-8693194f46e3-0', usage_metadata={'input_tokens': 480, 'output_tokens': 36, 'total_tokens': 516, 'input_token_details': {'cache_read': 448}, 'output_token_details': {}}),\n",
       "  HumanMessage(content='12 monkeys airport parking lot scene', additional_kwargs={}, response_metadata={}, id='bb09837b-7a3d-4540-a6ce-b1ebbebfe99a'),\n",
       "  AIMessage(content='', additional_kwargs={'tool_calls': [{'id': 'call_0_54f87425-7278-422d-9438-ae4adf87c277', 'function': {'arguments': '{\"movie_title\":\"12 Monkeys\"}', 'name': 'check_movie_exists'}, 'type': 'function', 'index': 0}], 'refusal': None}, response_metadata={'token_usage': {'completion_tokens': 23, 'prompt_tokens': 525, 'total_tokens': 548, 'completion_tokens_details': None, 'prompt_tokens_details': {'audio_tokens': None, 'cached_tokens': 512}, 'prompt_cache_hit_tokens': 512, 'prompt_cache_miss_tokens': 13}, 'model_name': 'deepseek-chat', 'system_fingerprint': 'fp_8802369eaa_prod0623_fp8_kvcache', 'id': 'e15a4e06-f868-4935-a778-353dde7cb8fe', 'service_tier': None, 'finish_reason': 'tool_calls', 'logprobs': None}, id='run--1a8b143d-758e-4747-8d05-256602166323-0', tool_calls=[{'name': 'check_movie_exists', 'args': {'movie_title': '12 Monkeys'}, 'id': 'call_0_54f87425-7278-422d-9438-ae4adf87c277', 'type': 'tool_call'}], usage_metadata={'input_tokens': 525, 'output_tokens': 23, 'total_tokens': 548, 'input_token_details': {'cache_read': 512}, 'output_token_details': {}}),\n",
       "  ToolMessage(content='Script for 12 Monkeys is available', name='check_movie_exists', id='ebdbb896-22bf-4956-8279-c008b2038eab', tool_call_id='call_0_54f87425-7278-422d-9438-ae4adf87c277'),\n",
       "  AIMessage(content='', additional_kwargs={'tool_calls': [{'id': 'call_0_fde4c612-cc59-4593-8631-278056a8285a', 'function': {'arguments': '{\"title\":\"12 Monkeys\",\"text_query\":\"airport parking lot scene\"}', 'name': 'retrieve_documents'}, 'type': 'function', 'index': 0}], 'refusal': None}, response_metadata={'token_usage': {'completion_tokens': 31, 'prompt_tokens': 562, 'total_tokens': 593, 'completion_tokens_details': None, 'prompt_tokens_details': {'audio_tokens': None, 'cached_tokens': 512}, 'prompt_cache_hit_tokens': 512, 'prompt_cache_miss_tokens': 50}, 'model_name': 'deepseek-chat', 'system_fingerprint': 'fp_8802369eaa_prod0623_fp8_kvcache', 'id': '2da9833e-9d11-4e1c-a603-c13ab93d7409', 'service_tier': None, 'finish_reason': 'tool_calls', 'logprobs': None}, id='run--6b5225ed-672c-4e95-81ef-66dc65ef4b26-0', tool_calls=[{'name': 'retrieve_documents', 'args': {'title': '12 Monkeys', 'text_query': 'airport parking lot scene'}, 'id': 'call_0_fde4c612-cc59-4593-8631-278056a8285a', 'type': 'tool_call'}], usage_metadata={'input_tokens': 562, 'output_tokens': 31, 'total_tokens': 593, 'input_token_details': {'cache_read': 512}, 'output_token_details': {}}),\n",
       "  ToolMessage(content='[\"EXT. PARKING LOT/AIRPORT\\\\nAs YOUNG COLE\\'S PARENTS (seen only as sleeves and torsos) usher\\\\nYOUNG COLE into their station wagon, the boy hesitates, looks\\\\nback, watches a 747 climb into the sky.\\\\nFADE OUT:\\\\n12 Monkeys\\\\nWriters : David Peoples Janet Peoples\\\\nGenres : Drama Sci-Fi Thriller\\\\nUser Comments\\\\nBack to IMSDb\\\\n\", \"EXT. PARKING LOT/BREITROSE HALL - NIGHT\\\\nA full moon.\\\\nCOLLEAGUES in a VOLVO pull out of the parking lot, calling,\\\\n\\\\\"Congratulations\\\\\" to RAILLY.\\\\nShe waves back as she hurries to her black ACURA, one of the last\\\\ncars left in the lot.\\\\nThe outside lights of Breitrose Hall go off.\\\\nRAILLY seems to be alone in the lot as she fishes keys from her\\\\npurse, unlocks her car door, starts to open it when...\\\\nSuddenly, she\\'s grabbed from behind in a choke-hold by a large\\\\nshadowy MAN looming out of the darkness behind her.\\\\nMAN\\'S VOICE\\\\nGet in!\\\\nUnable to scream, she writhes and kicks as he forces her into the\\\\nfront seat.\\\\nMAN\\'S VOICE\\\\nI\\'ve got a gun.\\\\nRAILLY freezes, terrified, as he opens the rear door and\\\\nscrambles in behind her.\\\\n\", \"INT. CONCOURSE/AIRPORT - DAY\\\\nTHE DREAM AGAIN! But at an earlier moment. YOUNG COLE, flanked\\\\nby his PARENTS, whose faces are out of view, is watching a PLANE\\\\nland through one of the big glass windows that lines the concourse\\\\nleading to the departure gates.\\\\nP.A. SYSTEM (o.s.)\\\\nFlight 784 now boarding at gate...\\\\nSuddenly, a SHOUT, followed by raised VOICES, interrupts the\\\\nmonotonous airport routine. As YOUNG COLE and his PARENTS turn\\\\nto see what\\'s going on, a man we\\'ll call MR. PONYTAIL, his face\\\\naverted, hurries past them, bumping YOUNG COLE with a Chicago\\\\nHulls Sports Duffle Bag.\\\\nMR. PONYTAIL\\\\nWATCH IT!\\\\nYOUNG COLE sees little more than the gaudy pants, the duffle, and\\\\nthe man\\'s ponytail flopping as he rushes towards the gates.\\\\nJust then, a WOMAN\\'S VOICE cries out, \\\\\"NOOOOOOOOO!\\\\\"\\\\nYOUNG COLE turns back toward the Security Check Point just as\\\\nTRAVELERS scatter madly, some diving to the floor, others\\\\nrunning. A TERRIFIED TRAVELER, hitting the floor close by, looks\\\\nup at YOUNG COLE with panicky eyes, and asks....\\\\nTERRIFIED TRAVELER\\\\nJust exactly why did you volunteer?\\\\n\"]', name='retrieve_documents', id='aa936b61-7637-4b06-b828-5fa0283d9506', tool_call_id='call_0_fde4c612-cc59-4593-8631-278056a8285a'),\n",
       "  AIMessage(content='Here are some scenes from \"12 Monkeys\" that involve an airport or parking lot:\\n\\n1. **EXT. PARKING LOT/AIRPORT**  \\n   - Young Cole is seen with his parents as they usher him into their station wagon. He hesitates and watches a 747 climb into the sky.\\n\\n2. **EXT. PARKING LOT/BREITROSE HALL - NIGHT**  \\n   - A tense scene where Railly is grabbed by a shadowy man in a parking lot, who forces her into her car.\\n\\n3. **INT. CONCOURSE/AIRPORT - DAY**  \\n   - A dream sequence where Young Cole and his parents witness a chaotic moment at the airport, involving a man with a ponytail and a terrified traveler.\\n\\nLet me know if you\\'d like more details about any of these scenes or if you\\'re looking for something specific!', additional_kwargs={'refusal': None}, response_metadata={'token_usage': {'completion_tokens': 181, 'prompt_tokens': 1239, 'total_tokens': 1420, 'completion_tokens_details': None, 'prompt_tokens_details': {'audio_tokens': None, 'cached_tokens': 512}, 'prompt_cache_hit_tokens': 512, 'prompt_cache_miss_tokens': 727}, 'model_name': 'deepseek-chat', 'system_fingerprint': 'fp_8802369eaa_prod0623_fp8_kvcache', 'id': '9ef7701d-e145-4dd1-b419-d5d3b3badf5d', 'service_tier': None, 'finish_reason': 'stop', 'logprobs': None}, id='run--371b9088-3f44-41e5-aece-93d4aa64d191-0', usage_metadata={'input_tokens': 1239, 'output_tokens': 181, 'total_tokens': 1420, 'input_token_details': {'cache_read': 512}, 'output_token_details': {}})]}"
      ]
     },
     "execution_count": 16,
     "metadata": {},
     "output_type": "execute_result"
    }
   ],
   "execution_count": 16
  },
  {
   "metadata": {
    "ExecuteTime": {
     "end_time": "2025-07-12T11:49:38.563361Z",
     "start_time": "2025-07-12T11:49:27.926867Z"
    }
   },
   "cell_type": "code",
   "source": "react_graph_memory.invoke({\"messages\": \"Do you have F1 movie script?\"}, config)",
   "id": "a7821a18033895ac",
   "outputs": [
    {
     "data": {
      "text/plain": [
       "{'messages': [HumanMessage(content='Hi, what can you do?', additional_kwargs={}, response_metadata={}, id='e9932dd9-97ee-4a25-96e7-6c50de8807d8'),\n",
       "  AIMessage(content=\"I can help you answer questions about movie scripts! For example, I can:\\n\\n1. **Check if a movie exists** in the database.\\n2. **Retrieve specific parts of a movie script** based on your query (e.g., a character's dialogue, a scene description, or a particular line).\\n3. **Provide summaries or details** about scenes, characters, or plot points if the information is available in the script.\\n\\nJust let me know the movie title and what you're looking for, and I'll do my best to assist you!\", additional_kwargs={'refusal': None}, response_metadata={'token_usage': {'completion_tokens': 112, 'prompt_tokens': 326, 'total_tokens': 438, 'completion_tokens_details': None, 'prompt_tokens_details': {'audio_tokens': None, 'cached_tokens': 64}, 'prompt_cache_hit_tokens': 64, 'prompt_cache_miss_tokens': 262}, 'model_name': 'deepseek-chat', 'system_fingerprint': 'fp_8802369eaa_prod0623_fp8_kvcache', 'id': 'b7519354-66e5-4782-bb92-6ee8f20a85fb', 'service_tier': None, 'finish_reason': 'stop', 'logprobs': None}, id='run--06dac9da-b43b-4dc4-974c-82a37603b635-0', usage_metadata={'input_tokens': 326, 'output_tokens': 112, 'total_tokens': 438, 'input_token_details': {'cache_read': 64}, 'output_token_details': {}}),\n",
       "  HumanMessage(content='Do you have Batman Begins Script?', additional_kwargs={}, response_metadata={}, id='30e7411b-887e-44bc-abc9-092d05bccefa'),\n",
       "  AIMessage(content='', additional_kwargs={'tool_calls': [{'id': 'call_0_8f315e05-a503-46b1-9e5f-68235fdb6421', 'function': {'arguments': '{\"movie_title\":\"Batman Begins\"}', 'name': 'check_movie_exists'}, 'type': 'function', 'index': 0}], 'refusal': None}, response_metadata={'token_usage': {'completion_tokens': 24, 'prompt_tokens': 449, 'total_tokens': 473, 'completion_tokens_details': None, 'prompt_tokens_details': {'audio_tokens': None, 'cached_tokens': 384}, 'prompt_cache_hit_tokens': 384, 'prompt_cache_miss_tokens': 65}, 'model_name': 'deepseek-chat', 'system_fingerprint': 'fp_8802369eaa_prod0623_fp8_kvcache', 'id': 'cf22c93d-7d01-4378-8a6f-02a62f9d01ee', 'service_tier': None, 'finish_reason': 'tool_calls', 'logprobs': None}, id='run--9971b578-1701-4e95-ac3c-dfef8dd1ba9e-0', tool_calls=[{'name': 'check_movie_exists', 'args': {'movie_title': 'Batman Begins'}, 'id': 'call_0_8f315e05-a503-46b1-9e5f-68235fdb6421', 'type': 'tool_call'}], usage_metadata={'input_tokens': 449, 'output_tokens': 24, 'total_tokens': 473, 'input_token_details': {'cache_read': 384}, 'output_token_details': {}}),\n",
       "  ToolMessage(content='false', name='check_movie_exists', id='5a64b72a-a9f5-4a4c-a4b0-2012f9297f91', tool_call_id='call_0_8f315e05-a503-46b1-9e5f-68235fdb6421'),\n",
       "  AIMessage(content='It looks like \"Batman Begins\" is not available in the database. Let me know if you\\'d like me to check for another movie or assist you with something else!', additional_kwargs={'refusal': None}, response_metadata={'token_usage': {'completion_tokens': 36, 'prompt_tokens': 480, 'total_tokens': 516, 'completion_tokens_details': None, 'prompt_tokens_details': {'audio_tokens': None, 'cached_tokens': 448}, 'prompt_cache_hit_tokens': 448, 'prompt_cache_miss_tokens': 32}, 'model_name': 'deepseek-chat', 'system_fingerprint': 'fp_8802369eaa_prod0623_fp8_kvcache', 'id': '269b72a1-f0f2-4bb6-ae45-24bf325f17f1', 'service_tier': None, 'finish_reason': 'stop', 'logprobs': None}, id='run--2be5e384-d19d-4825-a2c3-8693194f46e3-0', usage_metadata={'input_tokens': 480, 'output_tokens': 36, 'total_tokens': 516, 'input_token_details': {'cache_read': 448}, 'output_token_details': {}}),\n",
       "  HumanMessage(content='12 monkeys airport parking lot scene', additional_kwargs={}, response_metadata={}, id='bb09837b-7a3d-4540-a6ce-b1ebbebfe99a'),\n",
       "  AIMessage(content='', additional_kwargs={'tool_calls': [{'id': 'call_0_54f87425-7278-422d-9438-ae4adf87c277', 'function': {'arguments': '{\"movie_title\":\"12 Monkeys\"}', 'name': 'check_movie_exists'}, 'type': 'function', 'index': 0}], 'refusal': None}, response_metadata={'token_usage': {'completion_tokens': 23, 'prompt_tokens': 525, 'total_tokens': 548, 'completion_tokens_details': None, 'prompt_tokens_details': {'audio_tokens': None, 'cached_tokens': 512}, 'prompt_cache_hit_tokens': 512, 'prompt_cache_miss_tokens': 13}, 'model_name': 'deepseek-chat', 'system_fingerprint': 'fp_8802369eaa_prod0623_fp8_kvcache', 'id': 'e15a4e06-f868-4935-a778-353dde7cb8fe', 'service_tier': None, 'finish_reason': 'tool_calls', 'logprobs': None}, id='run--1a8b143d-758e-4747-8d05-256602166323-0', tool_calls=[{'name': 'check_movie_exists', 'args': {'movie_title': '12 Monkeys'}, 'id': 'call_0_54f87425-7278-422d-9438-ae4adf87c277', 'type': 'tool_call'}], usage_metadata={'input_tokens': 525, 'output_tokens': 23, 'total_tokens': 548, 'input_token_details': {'cache_read': 512}, 'output_token_details': {}}),\n",
       "  ToolMessage(content='Script for 12 Monkeys is available', name='check_movie_exists', id='ebdbb896-22bf-4956-8279-c008b2038eab', tool_call_id='call_0_54f87425-7278-422d-9438-ae4adf87c277'),\n",
       "  AIMessage(content='', additional_kwargs={'tool_calls': [{'id': 'call_0_fde4c612-cc59-4593-8631-278056a8285a', 'function': {'arguments': '{\"title\":\"12 Monkeys\",\"text_query\":\"airport parking lot scene\"}', 'name': 'retrieve_documents'}, 'type': 'function', 'index': 0}], 'refusal': None}, response_metadata={'token_usage': {'completion_tokens': 31, 'prompt_tokens': 562, 'total_tokens': 593, 'completion_tokens_details': None, 'prompt_tokens_details': {'audio_tokens': None, 'cached_tokens': 512}, 'prompt_cache_hit_tokens': 512, 'prompt_cache_miss_tokens': 50}, 'model_name': 'deepseek-chat', 'system_fingerprint': 'fp_8802369eaa_prod0623_fp8_kvcache', 'id': '2da9833e-9d11-4e1c-a603-c13ab93d7409', 'service_tier': None, 'finish_reason': 'tool_calls', 'logprobs': None}, id='run--6b5225ed-672c-4e95-81ef-66dc65ef4b26-0', tool_calls=[{'name': 'retrieve_documents', 'args': {'title': '12 Monkeys', 'text_query': 'airport parking lot scene'}, 'id': 'call_0_fde4c612-cc59-4593-8631-278056a8285a', 'type': 'tool_call'}], usage_metadata={'input_tokens': 562, 'output_tokens': 31, 'total_tokens': 593, 'input_token_details': {'cache_read': 512}, 'output_token_details': {}}),\n",
       "  ToolMessage(content='[\"EXT. PARKING LOT/AIRPORT\\\\nAs YOUNG COLE\\'S PARENTS (seen only as sleeves and torsos) usher\\\\nYOUNG COLE into their station wagon, the boy hesitates, looks\\\\nback, watches a 747 climb into the sky.\\\\nFADE OUT:\\\\n12 Monkeys\\\\nWriters : David Peoples Janet Peoples\\\\nGenres : Drama Sci-Fi Thriller\\\\nUser Comments\\\\nBack to IMSDb\\\\n\", \"EXT. PARKING LOT/BREITROSE HALL - NIGHT\\\\nA full moon.\\\\nCOLLEAGUES in a VOLVO pull out of the parking lot, calling,\\\\n\\\\\"Congratulations\\\\\" to RAILLY.\\\\nShe waves back as she hurries to her black ACURA, one of the last\\\\ncars left in the lot.\\\\nThe outside lights of Breitrose Hall go off.\\\\nRAILLY seems to be alone in the lot as she fishes keys from her\\\\npurse, unlocks her car door, starts to open it when...\\\\nSuddenly, she\\'s grabbed from behind in a choke-hold by a large\\\\nshadowy MAN looming out of the darkness behind her.\\\\nMAN\\'S VOICE\\\\nGet in!\\\\nUnable to scream, she writhes and kicks as he forces her into the\\\\nfront seat.\\\\nMAN\\'S VOICE\\\\nI\\'ve got a gun.\\\\nRAILLY freezes, terrified, as he opens the rear door and\\\\nscrambles in behind her.\\\\n\", \"INT. CONCOURSE/AIRPORT - DAY\\\\nTHE DREAM AGAIN! But at an earlier moment. YOUNG COLE, flanked\\\\nby his PARENTS, whose faces are out of view, is watching a PLANE\\\\nland through one of the big glass windows that lines the concourse\\\\nleading to the departure gates.\\\\nP.A. SYSTEM (o.s.)\\\\nFlight 784 now boarding at gate...\\\\nSuddenly, a SHOUT, followed by raised VOICES, interrupts the\\\\nmonotonous airport routine. As YOUNG COLE and his PARENTS turn\\\\nto see what\\'s going on, a man we\\'ll call MR. PONYTAIL, his face\\\\naverted, hurries past them, bumping YOUNG COLE with a Chicago\\\\nHulls Sports Duffle Bag.\\\\nMR. PONYTAIL\\\\nWATCH IT!\\\\nYOUNG COLE sees little more than the gaudy pants, the duffle, and\\\\nthe man\\'s ponytail flopping as he rushes towards the gates.\\\\nJust then, a WOMAN\\'S VOICE cries out, \\\\\"NOOOOOOOOO!\\\\\"\\\\nYOUNG COLE turns back toward the Security Check Point just as\\\\nTRAVELERS scatter madly, some diving to the floor, others\\\\nrunning. A TERRIFIED TRAVELER, hitting the floor close by, looks\\\\nup at YOUNG COLE with panicky eyes, and asks....\\\\nTERRIFIED TRAVELER\\\\nJust exactly why did you volunteer?\\\\n\"]', name='retrieve_documents', id='aa936b61-7637-4b06-b828-5fa0283d9506', tool_call_id='call_0_fde4c612-cc59-4593-8631-278056a8285a'),\n",
       "  AIMessage(content='Here are some scenes from \"12 Monkeys\" that involve an airport or parking lot:\\n\\n1. **EXT. PARKING LOT/AIRPORT**  \\n   - Young Cole is seen with his parents as they usher him into their station wagon. He hesitates and watches a 747 climb into the sky.\\n\\n2. **EXT. PARKING LOT/BREITROSE HALL - NIGHT**  \\n   - A tense scene where Railly is grabbed by a shadowy man in a parking lot, who forces her into her car.\\n\\n3. **INT. CONCOURSE/AIRPORT - DAY**  \\n   - A dream sequence where Young Cole and his parents witness a chaotic moment at the airport, involving a man with a ponytail and a terrified traveler.\\n\\nLet me know if you\\'d like more details about any of these scenes or if you\\'re looking for something specific!', additional_kwargs={'refusal': None}, response_metadata={'token_usage': {'completion_tokens': 181, 'prompt_tokens': 1239, 'total_tokens': 1420, 'completion_tokens_details': None, 'prompt_tokens_details': {'audio_tokens': None, 'cached_tokens': 512}, 'prompt_cache_hit_tokens': 512, 'prompt_cache_miss_tokens': 727}, 'model_name': 'deepseek-chat', 'system_fingerprint': 'fp_8802369eaa_prod0623_fp8_kvcache', 'id': '9ef7701d-e145-4dd1-b419-d5d3b3badf5d', 'service_tier': None, 'finish_reason': 'stop', 'logprobs': None}, id='run--371b9088-3f44-41e5-aece-93d4aa64d191-0', usage_metadata={'input_tokens': 1239, 'output_tokens': 181, 'total_tokens': 1420, 'input_token_details': {'cache_read': 512}, 'output_token_details': {}}),\n",
       "  HumanMessage(content='Do you have F1 movie script?', additional_kwargs={}, response_metadata={}, id='78a288ff-45e3-40a8-ab01-88e310941d20'),\n",
       "  AIMessage(content='', additional_kwargs={'tool_calls': [{'id': 'call_0_88ac9a91-e0a4-4991-b5d5-dd72d645b973', 'function': {'arguments': '{\"movie_title\":\"F1\"}', 'name': 'check_movie_exists'}, 'type': 'function', 'index': 0}], 'refusal': None}, response_metadata={'token_usage': {'completion_tokens': 22, 'prompt_tokens': 1431, 'total_tokens': 1453, 'completion_tokens_details': None, 'prompt_tokens_details': {'audio_tokens': None, 'cached_tokens': 1408}, 'prompt_cache_hit_tokens': 1408, 'prompt_cache_miss_tokens': 23}, 'model_name': 'deepseek-chat', 'system_fingerprint': 'fp_8802369eaa_prod0623_fp8_kvcache', 'id': '8879bd3b-438d-42d5-9bae-de2c1b5700dc', 'service_tier': None, 'finish_reason': 'tool_calls', 'logprobs': None}, id='run--f4bc39a6-4c5a-4f0c-aba5-86437d2c5ca2-0', tool_calls=[{'name': 'check_movie_exists', 'args': {'movie_title': 'F1'}, 'id': 'call_0_88ac9a91-e0a4-4991-b5d5-dd72d645b973', 'type': 'tool_call'}], usage_metadata={'input_tokens': 1431, 'output_tokens': 22, 'total_tokens': 1453, 'input_token_details': {'cache_read': 1408}, 'output_token_details': {}}),\n",
       "  ToolMessage(content='false', name='check_movie_exists', id='292ccf54-1945-49c2-b4d1-a8d95a1a57f8', tool_call_id='call_0_88ac9a91-e0a4-4991-b5d5-dd72d645b973'),\n",
       "  AIMessage(content='It looks like the movie \"F1\" is not available in the database. If you\\'re referring to a specific Formula 1-related movie (e.g., \"Rush,\" \"Ford v Ferrari,\" or another title), let me know, and I can check for that instead!', additional_kwargs={'refusal': None}, response_metadata={'token_usage': {'completion_tokens': 57, 'prompt_tokens': 1460, 'total_tokens': 1517, 'completion_tokens_details': None, 'prompt_tokens_details': {'audio_tokens': None, 'cached_tokens': 1408}, 'prompt_cache_hit_tokens': 1408, 'prompt_cache_miss_tokens': 52}, 'model_name': 'deepseek-chat', 'system_fingerprint': 'fp_8802369eaa_prod0623_fp8_kvcache', 'id': '9c182b10-6b20-4b53-a4f9-eda04623dde9', 'service_tier': None, 'finish_reason': 'stop', 'logprobs': None}, id='run--4f063bce-0a02-42f5-809c-66c0294f1c72-0', usage_metadata={'input_tokens': 1460, 'output_tokens': 57, 'total_tokens': 1517, 'input_token_details': {'cache_read': 1408}, 'output_token_details': {}})]}"
      ]
     },
     "execution_count": 17,
     "metadata": {},
     "output_type": "execute_result"
    }
   ],
   "execution_count": 17
  }
 ],
 "metadata": {
  "kernelspec": {
   "display_name": "Python 3",
   "language": "python",
   "name": "python3"
  },
  "language_info": {
   "codemirror_mode": {
    "name": "ipython",
    "version": 2
   },
   "file_extension": ".py",
   "mimetype": "text/x-python",
   "name": "python",
   "nbconvert_exporter": "python",
   "pygments_lexer": "ipython2",
   "version": "2.7.6"
  }
 },
 "nbformat": 4,
 "nbformat_minor": 5
}
