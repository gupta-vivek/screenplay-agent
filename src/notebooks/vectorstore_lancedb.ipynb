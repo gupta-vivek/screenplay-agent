{
 "cells": [
  {
   "metadata": {},
   "cell_type": "markdown",
   "source": "### Add data to Vector Store. I am using LanceDB as Vector Store. They provide $100 free credits.",
   "id": "f1e9e5f4b3f1a59f"
  },
  {
   "metadata": {
    "ExecuteTime": {
     "end_time": "2025-07-06T16:50:52.544314Z",
     "start_time": "2025-07-06T16:50:51.167494Z"
    }
   },
   "cell_type": "code",
   "source": [
    "import os\n",
    "import lancedb\n",
    "import json\n",
    "import pyarrow as pa"
   ],
   "id": "a218b26f7c2696d1",
   "outputs": [],
   "execution_count": 1
  },
  {
   "metadata": {
    "ExecuteTime": {
     "end_time": "2025-07-06T16:50:53.112095Z",
     "start_time": "2025-07-06T16:50:53.106391Z"
    }
   },
   "cell_type": "code",
   "source": [
    "chunk_dir = \"../../data/chunks\"\n",
    "chunk_files = os.listdir(chunk_dir)"
   ],
   "id": "d0dcf4f0e9097182",
   "outputs": [],
   "execution_count": 2
  },
  {
   "metadata": {},
   "cell_type": "code",
   "outputs": [],
   "execution_count": null,
   "source": [
    "uri=\"db://screenplay-agent-msgtqr\",\n",
    "api_key=\"sk_WZI5Y7IPRBEPBIM7JTOQMWAQDGUM22643EDAWLBZSOJ2Z3SBRMWA====\",\n",
    "region=\"us-east-1\"\n",
    "table_name = \"documents\""
   ],
   "id": "2d840271b309ff7f"
  },
  {
   "metadata": {
    "ExecuteTime": {
     "end_time": "2025-07-06T16:50:55.941642Z",
     "start_time": "2025-07-06T16:50:55.935095Z"
    }
   },
   "cell_type": "code",
   "source": [
    "db = lancedb.connect(\n",
    "  uri=uri,\n",
    "  api_key=api_key,\n",
    "  region=region\n",
    ")"
   ],
   "id": "d21beef800ecc152",
   "outputs": [],
   "execution_count": 3
  },
  {
   "metadata": {
    "ExecuteTime": {
     "end_time": "2025-07-06T16:52:54.514094Z",
     "start_time": "2025-07-06T16:52:53.264573Z"
    }
   },
   "cell_type": "code",
   "source": [
    "schema = pa.schema([\n",
    "    pa.field(\"title\", pa.string()),\n",
    "    pa.field(\"id\", pa.string()),\n",
    "    pa.field(\"text\", pa.string()),\n",
    "    pa.field(\"text_vector\", pa.list_(pa.float32())),\n",
    "])\n",
    "table = db.create_table(table_name, schema=schema)"
   ],
   "id": "bb0a7f9ec7f13ef7",
   "outputs": [],
   "execution_count": 5
  },
  {
   "metadata": {},
   "cell_type": "markdown",
   "source": [
    "### Add the data in batches\n",
    "\n",
    "(Tried using iterator/generator. But ran into issues.)"
   ],
   "id": "2afe9f13120e6d02"
  },
  {
   "metadata": {
    "ExecuteTime": {
     "end_time": "2025-07-06T16:59:32.933860Z",
     "start_time": "2025-07-06T16:52:57.366683Z"
    }
   },
   "cell_type": "code",
   "source": [
    "batch = []\n",
    "batch_size = 2000\n",
    "for ind, filename in enumerate(chunk_files):\n",
    "    chunk_path = os.path.join(chunk_dir, filename)\n",
    "    with open(chunk_path, 'r', encoding='utf-8') as f:\n",
    "        chunks = json.load(f)\n",
    "\n",
    "    for chunk in chunks:\n",
    "        batch.append(chunk)\n",
    "\n",
    "    if len(batch) >= batch_size:\n",
    "        table.add(batch)\n",
    "        batch = []\n",
    "\n",
    "# Add remaining records\n",
    "if batch:\n",
    "    table.add(batch)"
   ],
   "id": "8c1da04f27698725",
   "outputs": [],
   "execution_count": 6
  },
  {
   "metadata": {
    "ExecuteTime": {
     "end_time": "2025-07-06T17:19:21.839282Z",
     "start_time": "2025-07-06T17:19:21.710177Z"
    }
   },
   "cell_type": "code",
   "source": "table.schema",
   "id": "5a4cdb66e5cc9e1c",
   "outputs": [
    {
     "data": {
      "text/plain": [
       "title: string\n",
       "id: string\n",
       "text: string\n",
       "vector: fixed_size_list<item: float>[768]\n",
       "  child 0, item: float"
      ]
     },
     "execution_count": 14,
     "metadata": {},
     "output_type": "execute_result"
    }
   ],
   "execution_count": 14
  },
  {
   "metadata": {
    "ExecuteTime": {
     "end_time": "2025-07-06T17:19:19.987193Z",
     "start_time": "2025-07-06T17:19:14.349542Z"
    }
   },
   "cell_type": "code",
   "source": [
    "table.alter_columns({\"path\": \"text_vector\", \"rename\": \"vector\"}) # Renaming column since lancedb looks for column name with vector for performing vector search\n",
    "table.alter_columns({\"path\": \"vector\", \"data_type\": pa.list_(pa.float32(), 768)})  # Adding dimension since I didn't mention dimension in schema while creating the table"
   ],
   "id": "fe77a925a241a6f8",
   "outputs": [],
   "execution_count": 13
  },
  {
   "metadata": {},
   "cell_type": "markdown",
   "source": "## Search",
   "id": "c82bafadf3a4af10"
  },
  {
   "metadata": {
    "ExecuteTime": {
     "end_time": "2025-07-06T17:15:56.498908Z",
     "start_time": "2025-07-06T17:15:34.792683Z"
    }
   },
   "cell_type": "code",
   "source": [
    "from sentence_transformers import SentenceTransformer\n",
    "model = SentenceTransformer('all-mpnet-base-v2')"
   ],
   "id": "84327c214712409a",
   "outputs": [],
   "execution_count": 7
  },
  {
   "metadata": {},
   "cell_type": "code",
   "outputs": [],
   "execution_count": null,
   "source": "# table = db.open_table(table_name)",
   "id": "812a689c90359d39"
  },
  {
   "metadata": {},
   "cell_type": "code",
   "outputs": [],
   "execution_count": null,
   "source": [
    "text_query = \"12 Monkeys parking lot airport\"\n",
    "vector_query = model.encode(text_query)"
   ],
   "id": "5208651221e2c48b"
  },
  {
   "metadata": {
    "ExecuteTime": {
     "end_time": "2025-07-06T17:19:33.054543Z",
     "start_time": "2025-07-06T17:19:26.646787Z"
    }
   },
   "cell_type": "code",
   "source": "table.search(query_type=\"hybrid\").vector(vector_query).text(text_query).to_pandas()",
   "id": "317b93e23ae5a5f8",
   "outputs": [
    {
     "data": {
      "text/plain": [
       "                         title                             id  \\\n",
       "0                   12 Monkeys                 12 Monkeys_184   \n",
       "1                   12 Monkeys                   12 Monkeys_1   \n",
       "2               Absolute Power             Absolute Power_172   \n",
       "3   10 Things I Hate About You  10 Things I Hate About You_65   \n",
       "4                        Elvis                      Elvis_323   \n",
       "5               12 and Holding              12 and Holding_95   \n",
       "6                   Deep Cover                 Deep Cover_122   \n",
       "7                   Blackberry                  Blackberry_66   \n",
       "8                          JFK                          JFK_9   \n",
       "9               Ricky Stanicky               Ricky Stanicky_9   \n",
       "10                  Adaptation                  Adaptation_25   \n",
       "11                  The Killer                 The Killer_176   \n",
       "12                  12 Monkeys                  12 Monkeys_32   \n",
       "13              Absolute Power             Absolute Power_304   \n",
       "14                       Break                      Break_119   \n",
       "15                       Fargo                       Fargo_21   \n",
       "16        Master and Commander         Master and Commander_3   \n",
       "17                       Twins                       Twins_69   \n",
       "18                   Insidious                   Insidious_14   \n",
       "\n",
       "                                                 text  \\\n",
       "0   EXT. PARKING LOT/AIRPORT\\nAs YOUNG COLE'S PARE...   \n",
       "1   \\nTwelve Monkeys\\nTWELVE MONKEYS\\nAn original ...   \n",
       "2                              INT. AIRPORT LOUNGE -    \n",
       "3   EXT. PARKING LOT - DAY Joey leans against Patr...   \n",
       "4   INTERNATIONAL HOTEL - PARKING GARAGE - DAY\\nAn...   \n",
       "5   EXT. 7-11 PARKING LOT - LATER THAT NIGHT\\nMale...   \n",
       "6                           EXT. THEATER PARKING LOT/   \n",
       "7                               EXT. RUNWAY, PEARSON    \n",
       "8   INTERCUT with the Zapruder and Nix films on J....   \n",
       "9   EXT. BURBANK AIRPORT - LATER\\nTed, Wes and JT ...   \n",
       "10  INT. RENTAL CAR - DAY\\nWe watch Orlean as she ...   \n",
       "11  EXT. CARIBBEAN CITY AIRPORT - LONG TERM PARKIN...   \n",
       "12  INT. AIRPORT CONCOURSE - DAY (THE DREAM)\\nMR. ...   \n",
       "13                                EXT. PARKING LOT -    \n",
       "14  say they know the score. Quite a few have bear...   \n",
       "15  INTERNATIONAL AIRPORT.\\nROOFTOP PARKING LOT\\nT...   \n",
       "16  INT OF VIEW, TIME LAPSE - DAY\\nThe tiny ship o...   \n",
       "17  EXT. AIRPORT GARAGE - ESTABLISHING - NIGHT 71\\...   \n",
       "18  INT. CLASSROOM, FORRESTER HIGH SCHOOL - DAY\\nN...   \n",
       "\n",
       "                                               vector  _relevance_score  \n",
       "0   [0.01629723, 0.021248307, 0.02497799, 0.024073...          0.032018  \n",
       "1   [0.06492284, 0.0074991644, 0.025059044, -0.010...          0.016393  \n",
       "2   [0.016631953, -0.0723681, 0.0043680794, 0.0220...          0.016129  \n",
       "3   [0.020487228, 0.039602064, 0.0115076415, 0.049...          0.016129  \n",
       "4   [0.016713805, 0.013903926, -0.001708867, 0.079...          0.015873  \n",
       "5   [-0.0015742738, -0.028643304, 0.01565392, 0.03...          0.015873  \n",
       "6   [0.0017522366, -0.049317118, 0.0017435338, 0.0...          0.015625  \n",
       "7   [-0.0072112437, -0.034491576, -0.00065408176, ...          0.015385  \n",
       "8   [-0.025056802, -0.022652894, -0.0024887817, 0....          0.015385  \n",
       "9   [0.024349837, -0.056931645, 0.015563837, 0.037...          0.015152  \n",
       "10  [0.002896544, 0.086897954, -0.0037218642, 0.00...          0.015152  \n",
       "11  [0.012756674, 0.013744393, 0.0054629724, 0.069...          0.014925  \n",
       "12  [0.013971306, 0.04253201, 0.010274862, 0.04008...          0.014925  \n",
       "13  [0.024993358, -0.06008509, -0.0064679678, 0.05...          0.014706  \n",
       "14  [0.0153540755, 0.015370524, -0.011797383, 0.03...          0.014706  \n",
       "15  [0.0061701923, 0.0635603, 0.016673364, 0.07738...          0.014493  \n",
       "16  [-0.020510422, -0.063971795, 0.028423807, -0.0...          0.014493  \n",
       "17  [-0.005579766, -0.03690662, 0.035257664, 0.055...          0.014286  \n",
       "18  [0.02473946, 0.014494248, -0.014190737, 0.0153...          0.014286  "
      ],
      "text/html": [
       "<div>\n",
       "<style scoped>\n",
       "    .dataframe tbody tr th:only-of-type {\n",
       "        vertical-align: middle;\n",
       "    }\n",
       "\n",
       "    .dataframe tbody tr th {\n",
       "        vertical-align: top;\n",
       "    }\n",
       "\n",
       "    .dataframe thead th {\n",
       "        text-align: right;\n",
       "    }\n",
       "</style>\n",
       "<table border=\"1\" class=\"dataframe\">\n",
       "  <thead>\n",
       "    <tr style=\"text-align: right;\">\n",
       "      <th></th>\n",
       "      <th>title</th>\n",
       "      <th>id</th>\n",
       "      <th>text</th>\n",
       "      <th>vector</th>\n",
       "      <th>_relevance_score</th>\n",
       "    </tr>\n",
       "  </thead>\n",
       "  <tbody>\n",
       "    <tr>\n",
       "      <th>0</th>\n",
       "      <td>12 Monkeys</td>\n",
       "      <td>12 Monkeys_184</td>\n",
       "      <td>EXT. PARKING LOT/AIRPORT\\nAs YOUNG COLE'S PARE...</td>\n",
       "      <td>[0.01629723, 0.021248307, 0.02497799, 0.024073...</td>\n",
       "      <td>0.032018</td>\n",
       "    </tr>\n",
       "    <tr>\n",
       "      <th>1</th>\n",
       "      <td>12 Monkeys</td>\n",
       "      <td>12 Monkeys_1</td>\n",
       "      <td>\\nTwelve Monkeys\\nTWELVE MONKEYS\\nAn original ...</td>\n",
       "      <td>[0.06492284, 0.0074991644, 0.025059044, -0.010...</td>\n",
       "      <td>0.016393</td>\n",
       "    </tr>\n",
       "    <tr>\n",
       "      <th>2</th>\n",
       "      <td>Absolute Power</td>\n",
       "      <td>Absolute Power_172</td>\n",
       "      <td>INT. AIRPORT LOUNGE -</td>\n",
       "      <td>[0.016631953, -0.0723681, 0.0043680794, 0.0220...</td>\n",
       "      <td>0.016129</td>\n",
       "    </tr>\n",
       "    <tr>\n",
       "      <th>3</th>\n",
       "      <td>10 Things I Hate About You</td>\n",
       "      <td>10 Things I Hate About You_65</td>\n",
       "      <td>EXT. PARKING LOT - DAY Joey leans against Patr...</td>\n",
       "      <td>[0.020487228, 0.039602064, 0.0115076415, 0.049...</td>\n",
       "      <td>0.016129</td>\n",
       "    </tr>\n",
       "    <tr>\n",
       "      <th>4</th>\n",
       "      <td>Elvis</td>\n",
       "      <td>Elvis_323</td>\n",
       "      <td>INTERNATIONAL HOTEL - PARKING GARAGE - DAY\\nAn...</td>\n",
       "      <td>[0.016713805, 0.013903926, -0.001708867, 0.079...</td>\n",
       "      <td>0.015873</td>\n",
       "    </tr>\n",
       "    <tr>\n",
       "      <th>5</th>\n",
       "      <td>12 and Holding</td>\n",
       "      <td>12 and Holding_95</td>\n",
       "      <td>EXT. 7-11 PARKING LOT - LATER THAT NIGHT\\nMale...</td>\n",
       "      <td>[-0.0015742738, -0.028643304, 0.01565392, 0.03...</td>\n",
       "      <td>0.015873</td>\n",
       "    </tr>\n",
       "    <tr>\n",
       "      <th>6</th>\n",
       "      <td>Deep Cover</td>\n",
       "      <td>Deep Cover_122</td>\n",
       "      <td>EXT. THEATER PARKING LOT/</td>\n",
       "      <td>[0.0017522366, -0.049317118, 0.0017435338, 0.0...</td>\n",
       "      <td>0.015625</td>\n",
       "    </tr>\n",
       "    <tr>\n",
       "      <th>7</th>\n",
       "      <td>Blackberry</td>\n",
       "      <td>Blackberry_66</td>\n",
       "      <td>EXT. RUNWAY, PEARSON</td>\n",
       "      <td>[-0.0072112437, -0.034491576, -0.00065408176, ...</td>\n",
       "      <td>0.015385</td>\n",
       "    </tr>\n",
       "    <tr>\n",
       "      <th>8</th>\n",
       "      <td>JFK</td>\n",
       "      <td>JFK_9</td>\n",
       "      <td>INTERCUT with the Zapruder and Nix films on J....</td>\n",
       "      <td>[-0.025056802, -0.022652894, -0.0024887817, 0....</td>\n",
       "      <td>0.015385</td>\n",
       "    </tr>\n",
       "    <tr>\n",
       "      <th>9</th>\n",
       "      <td>Ricky Stanicky</td>\n",
       "      <td>Ricky Stanicky_9</td>\n",
       "      <td>EXT. BURBANK AIRPORT - LATER\\nTed, Wes and JT ...</td>\n",
       "      <td>[0.024349837, -0.056931645, 0.015563837, 0.037...</td>\n",
       "      <td>0.015152</td>\n",
       "    </tr>\n",
       "    <tr>\n",
       "      <th>10</th>\n",
       "      <td>Adaptation</td>\n",
       "      <td>Adaptation_25</td>\n",
       "      <td>INT. RENTAL CAR - DAY\\nWe watch Orlean as she ...</td>\n",
       "      <td>[0.002896544, 0.086897954, -0.0037218642, 0.00...</td>\n",
       "      <td>0.015152</td>\n",
       "    </tr>\n",
       "    <tr>\n",
       "      <th>11</th>\n",
       "      <td>The Killer</td>\n",
       "      <td>The Killer_176</td>\n",
       "      <td>EXT. CARIBBEAN CITY AIRPORT - LONG TERM PARKIN...</td>\n",
       "      <td>[0.012756674, 0.013744393, 0.0054629724, 0.069...</td>\n",
       "      <td>0.014925</td>\n",
       "    </tr>\n",
       "    <tr>\n",
       "      <th>12</th>\n",
       "      <td>12 Monkeys</td>\n",
       "      <td>12 Monkeys_32</td>\n",
       "      <td>INT. AIRPORT CONCOURSE - DAY (THE DREAM)\\nMR. ...</td>\n",
       "      <td>[0.013971306, 0.04253201, 0.010274862, 0.04008...</td>\n",
       "      <td>0.014925</td>\n",
       "    </tr>\n",
       "    <tr>\n",
       "      <th>13</th>\n",
       "      <td>Absolute Power</td>\n",
       "      <td>Absolute Power_304</td>\n",
       "      <td>EXT. PARKING LOT -</td>\n",
       "      <td>[0.024993358, -0.06008509, -0.0064679678, 0.05...</td>\n",
       "      <td>0.014706</td>\n",
       "    </tr>\n",
       "    <tr>\n",
       "      <th>14</th>\n",
       "      <td>Break</td>\n",
       "      <td>Break_119</td>\n",
       "      <td>say they know the score. Quite a few have bear...</td>\n",
       "      <td>[0.0153540755, 0.015370524, -0.011797383, 0.03...</td>\n",
       "      <td>0.014706</td>\n",
       "    </tr>\n",
       "    <tr>\n",
       "      <th>15</th>\n",
       "      <td>Fargo</td>\n",
       "      <td>Fargo_21</td>\n",
       "      <td>INTERNATIONAL AIRPORT.\\nROOFTOP PARKING LOT\\nT...</td>\n",
       "      <td>[0.0061701923, 0.0635603, 0.016673364, 0.07738...</td>\n",
       "      <td>0.014493</td>\n",
       "    </tr>\n",
       "    <tr>\n",
       "      <th>16</th>\n",
       "      <td>Master and Commander</td>\n",
       "      <td>Master and Commander_3</td>\n",
       "      <td>INT OF VIEW, TIME LAPSE - DAY\\nThe tiny ship o...</td>\n",
       "      <td>[-0.020510422, -0.063971795, 0.028423807, -0.0...</td>\n",
       "      <td>0.014493</td>\n",
       "    </tr>\n",
       "    <tr>\n",
       "      <th>17</th>\n",
       "      <td>Twins</td>\n",
       "      <td>Twins_69</td>\n",
       "      <td>EXT. AIRPORT GARAGE - ESTABLISHING - NIGHT 71\\...</td>\n",
       "      <td>[-0.005579766, -0.03690662, 0.035257664, 0.055...</td>\n",
       "      <td>0.014286</td>\n",
       "    </tr>\n",
       "    <tr>\n",
       "      <th>18</th>\n",
       "      <td>Insidious</td>\n",
       "      <td>Insidious_14</td>\n",
       "      <td>INT. CLASSROOM, FORRESTER HIGH SCHOOL - DAY\\nN...</td>\n",
       "      <td>[0.02473946, 0.014494248, -0.014190737, 0.0153...</td>\n",
       "      <td>0.014286</td>\n",
       "    </tr>\n",
       "  </tbody>\n",
       "</table>\n",
       "</div>"
      ]
     },
     "execution_count": 15,
     "metadata": {},
     "output_type": "execute_result"
    }
   ],
   "execution_count": 15
  }
 ],
 "metadata": {
  "kernelspec": {
   "display_name": "Python 3",
   "language": "python",
   "name": "python3"
  },
  "language_info": {
   "codemirror_mode": {
    "name": "ipython",
    "version": 2
   },
   "file_extension": ".py",
   "mimetype": "text/x-python",
   "name": "python",
   "nbconvert_exporter": "python",
   "pygments_lexer": "ipython2",
   "version": "2.7.6"
  }
 },
 "nbformat": 4,
 "nbformat_minor": 5
}
